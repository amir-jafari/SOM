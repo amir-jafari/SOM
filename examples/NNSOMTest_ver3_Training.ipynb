{
  "nbformat": 4,
  "nbformat_minor": 0,
  "metadata": {
    "colab": {
      "provenance": []
    },
    "kernelspec": {
      "name": "python3",
      "display_name": "Python 3"
    },
    "language_info": {
      "name": "python"
    }
  },
  "cells": [
    {
      "cell_type": "markdown",
      "source": [
        "# NNSOM (ver 0.0.3) Test Training\n"
      ],
      "metadata": {
        "id": "olc37Q9aWxTr"
      }
    },
    {
      "cell_type": "markdown",
      "source": [
        "## Notebook Setting"
      ],
      "metadata": {
        "id": "TKNd6ZN7W6EF"
      }
    },
    {
      "cell_type": "code",
      "execution_count": 1,
      "metadata": {
        "colab": {
          "base_uri": "https://localhost:8080/"
        },
        "id": "YAOEElnsUxi1",
        "outputId": "e544da33-0f2a-4a91-f0e4-4c50155fa605"
      },
      "outputs": [
        {
          "output_type": "stream",
          "name": "stdout",
          "text": [
            "Drive already mounted at /content/drive; to attempt to forcibly remount, call drive.mount(\"/content/drive\", force_remount=True).\n"
          ]
        }
      ],
      "source": [
        "from google.colab import drive\n",
        "drive.mount('/content/drive')"
      ]
    },
    {
      "cell_type": "code",
      "source": [
        "!pip install --upgrade NNSOM"
      ],
      "metadata": {
        "colab": {
          "base_uri": "https://localhost:8080/"
        },
        "id": "CacbS2nKVUAI",
        "outputId": "2645d274-5762-4da4-a3a4-fdee4ed717a4"
      },
      "execution_count": null,
      "outputs": [
        {
          "output_type": "stream",
          "name": "stdout",
          "text": [
            "Collecting NNSOM\n",
            "  Downloading nnsom-0.0.3-py3-none-any.whl (9.8 kB)\n",
            "Installing collected packages: NNSOM\n",
            "Successfully installed NNSOM-0.0.3\n"
          ]
        }
      ]
    },
    {
      "cell_type": "code",
      "source": [
        "from NNSOM.som import SOM\n",
        "import numpy as np\n",
        "import pickle\n",
        "from datetime import datetime\n",
        "from scipy.spatial.distance import cdist\n",
        "import pandas as pd\n",
        "now = datetime.now()\n",
        "from numpy.random import default_rng\n",
        "current_time = now.strftime(\"%H:%M:%S\")\n",
        "print(\"Current Time =\", current_time)\n",
        "import os"
      ],
      "metadata": {
        "colab": {
          "base_uri": "https://localhost:8080/"
        },
        "id": "Lx8bFl1MVcln",
        "outputId": "79ebfaca-32ce-47fe-a23d-a6b7248bb109"
      },
      "execution_count": null,
      "outputs": [
        {
          "output_type": "stream",
          "name": "stdout",
          "text": [
            "Current Time = 01:58:50\n"
          ]
        }
      ]
    },
    {
      "cell_type": "code",
      "source": [
        "# Flag to initialize the som (True), or load previously initialized (False)\n",
        "Init_Flag = True\n",
        "# Flag to save initialized model\n",
        "Init_Save_Flag = True\n",
        "# Flag to train the som, or load previously trained\n",
        "Train_Flag = True\n",
        "# Flag to save trained model\n",
        "Save_SOM_Flag = True"
      ],
      "metadata": {
        "id": "DVSnww53XMRy"
      },
      "execution_count": null,
      "outputs": []
    },
    {
      "cell_type": "code",
      "source": [
        "# Set parameters\n",
        "SOM_Row_Num = 4\n",
        "abs_path = \"/content/drive/MyDrive/Colab Notebooks/DATS6501_Capstone/Tests/NNSOMTest/\"\n",
        "data_path =  abs_path + \"dataset/\"\n",
        "model_path = abs_path + \"model/\"\n",
        "output_path =  abs_path + \"output/\""
      ],
      "metadata": {
        "id": "AMWCUQ_HXPZo"
      },
      "execution_count": null,
      "outputs": []
    },
    {
      "cell_type": "code",
      "source": [
        "Dimensions = (SOM_Row_Num, SOM_Row_Num)\n",
        "Epochs = 200\n",
        "Steps = 100\n",
        "Init_neighborhood = 3\n",
        "SEED = 1234567\n",
        "rng = default_rng(SEED)"
      ],
      "metadata": {
        "id": "oNu7gXE5XyOX"
      },
      "execution_count": null,
      "outputs": []
    },
    {
      "cell_type": "code",
      "source": [
        "Init_Som_File = model_path + \"SOM_init_f4_ep_50_Seed_\" + str(SEED) + '_Size_' + str(SOM_Row_Num) + \".pkl\"\n",
        "Trained_SOM_File = model_path + \"SOM_Model_f4_ep_50_Epoch_\" + str(Epochs) + '_Seed_' + str(SEED) + '_Size_' + str(SOM_Row_Num) + \".pkl\""
      ],
      "metadata": {
        "id": "nLW6WGLBXz12"
      },
      "execution_count": null,
      "outputs": []
    },
    {
      "cell_type": "code",
      "source": [
        "input_file = data_path + 'cv_electra_f4_ep_50_Features.npy'\n",
        "X = np.load(input_file)"
      ],
      "metadata": {
        "id": "CAvsL-veX5Dx"
      },
      "execution_count": null,
      "outputs": []
    },
    {
      "cell_type": "code",
      "source": [
        "tot_num = len(X)\n",
        "\n",
        "# Randomize to get different results\n",
        "X = X[rng.permutation(tot_num)]"
      ],
      "metadata": {
        "id": "64TTGtH-YOd9"
      },
      "execution_count": null,
      "outputs": []
    },
    {
      "cell_type": "code",
      "source": [
        "# Initializing can take a long time for larege data sets\n",
        "# Reduce size here. X1 is used for initialization, X is used for training.\n",
        "X1 = X[:int(tot_num/8)]\n",
        "X1 = np.transpose(X1)\n",
        "\n",
        "X = np.transpose(X)"
      ],
      "metadata": {
        "id": "9Q-unA9iYPHe"
      },
      "execution_count": null,
      "outputs": []
    },
    {
      "cell_type": "code",
      "source": [
        "X"
      ],
      "metadata": {
        "colab": {
          "base_uri": "https://localhost:8080/"
        },
        "id": "Rq57wuCjYWom",
        "outputId": "68815633-8093-4246-ffa6-6f2cbc90a555"
      },
      "execution_count": null,
      "outputs": [
        {
          "output_type": "execute_result",
          "data": {
            "text/plain": [
              "array([[ 0.19598798,  0.11238787,  0.03396067, ..., -0.4412961 ,\n",
              "         0.30089036,  0.22426115],\n",
              "       [-0.5313212 , -0.5931386 , -0.510237  , ..., -0.11582275,\n",
              "        -0.5675892 , -0.46735212],\n",
              "       [ 1.1355038 ,  0.95942116,  1.1728005 , ...,  1.2023962 ,\n",
              "         0.8775418 ,  1.0716735 ],\n",
              "       ...,\n",
              "       [-0.4645274 , -0.63972855, -0.57308996, ..., -0.6743317 ,\n",
              "        -0.40340135, -0.40148407],\n",
              "       [ 0.12299869,  0.10662067,  0.10073099, ...,  1.0335336 ,\n",
              "         0.26131585,  0.17211582],\n",
              "       [-1.0855391 , -1.0736814 , -1.0800399 , ..., -0.6518752 ,\n",
              "        -0.6799242 , -0.8346525 ]], dtype=float32)"
            ]
          },
          "metadata": {},
          "execution_count": 48
        }
      ]
    },
    {
      "cell_type": "code",
      "source": [
        "# Train SOM, or load pretrained SOM\n",
        "if Train_Flag:\n",
        "\n",
        "  if Init_Flag:\n",
        "    # Initialize weights of SOM\n",
        "    som_net = SOM(Dimensions)\n",
        "    som_net.init_w(X1)\n",
        "\n",
        "    if Init_Save_Flag:\n",
        "      with open(Init_Som_File, 'wb') as f:\n",
        "        pickle.dump(som_net, f)\n",
        "  else:\n",
        "    # Read in initialized SOM\n",
        "    with open(Init_Som_File, 'rb') as f:\n",
        "      som_net = pickle.load(f)\n",
        "\n",
        "  # Train network\n",
        "  som_net.train(X, Init_neighborhood, Epochs, Steps)\n",
        "\n",
        "  if Save_SOM_Flag:\n",
        "  # Save trained network\n",
        "    with open(Trained_SOM_File, 'wb') as f:\n",
        "      pickle.dump(som_net, f)\n",
        "\n",
        "else:\n",
        "  # Read in trained network\n",
        "  with open(Trained_SOM_File, 'rb') as f:\n",
        "    som_net = pickle.load(f)"
      ],
      "metadata": {
        "colab": {
          "base_uri": "https://localhost:8080/"
        },
        "id": "g8I529DZYXxT",
        "outputId": "ef8fe996-6210-4f78-b779-5c727742653c"
      },
      "execution_count": null,
      "outputs": [
        {
          "output_type": "stream",
          "name": "stdout",
          "text": [
            "Beginning Initialization\n",
            "Current Time = 02:01:42\n",
            "Ending Initialization\n",
            "Current Time = 02:04:46\n",
            "Beginning Training\n",
            "Current Time = 02:04:46\n",
            "50\n",
            "Current Time = 02:05:59\n",
            "100\n",
            "Current Time = 02:07:13\n",
            "150\n",
            "Current Time = 02:08:25\n",
            "200\n",
            "Current Time = 02:09:37\n",
            "Ending Training\n",
            "Current Time = 02:09:37\n"
          ]
        }
      ]
    },
    {
      "cell_type": "code",
      "source": [
        "# Compute statistics\n",
        "# Distance between each input and each weight\n",
        "x_w_dist = cdist(som_net.w, np.transpose(X), 'euclidean')\n",
        "\n",
        "# Find the index of the weight closest to the input\n",
        "ind1 = np.argmin(x_w_dist,axis=0)\n",
        "\n",
        "shapw = som_net.w.shape\n",
        "S = shapw[0]\n",
        "shapx = X.shape\n",
        "Q = shapx[1]\n",
        "net_ones = np.ones(S)\n",
        "same_size = 100*np.ones(S)\n",
        "\n",
        "Clust = []\n",
        "dist = []\n",
        "mdist = np.zeros(S)\n",
        "clustSize = []\n",
        "\n",
        "for i in range(S):\n",
        "    # Find which inputs are closest to the current weight (in cluster i)\n",
        "    tempclust = np.where(ind1==i)[0]\n",
        "\n",
        "    # Save distance of each input in the cluster to cluster center (weight)\n",
        "    tempdist = x_w_dist[i, tempclust]\n",
        "    indsort = np.argsort(tempdist)\n",
        "    tempclust = tempclust[indsort]\n",
        "    tempdist = tempdist[indsort]\n",
        "\n",
        "    # Add to distance array sorted distances\n",
        "    dist.append(tempdist)\n",
        "\n",
        "    # Add to Cluster array sorted indices\n",
        "    Clust.append(tempclust)\n",
        "\n",
        "    # Cluster size\n",
        "    num = len(tempclust)\n",
        "    clustSize.append(num)\n",
        "\n",
        "    # Save the maximum distance to any input in the cluster from cluster center\n",
        "    if num>0:\n",
        "        mdist[i] = tempdist[-1]\n"
      ],
      "metadata": {
        "id": "7iBaxmgYasyw"
      },
      "execution_count": null,
      "outputs": []
    },
    {
      "cell_type": "code",
      "source": [
        "# Find quantization error\n",
        "quant_err = np.array([ 0 if len(item)==0 else np.mean(item) for item in dist]).mean()\n",
        "print('Quantization error = ' + str(quant_err))"
      ],
      "metadata": {
        "colab": {
          "base_uri": "https://localhost:8080/"
        },
        "id": "XAipPzhxayTG",
        "outputId": "c2471de9-9be0-4411-d26c-dac8c5bfd32b"
      },
      "execution_count": null,
      "outputs": [
        {
          "output_type": "stream",
          "name": "stdout",
          "text": [
            "Quantization error = 6.923670481758034\n"
          ]
        }
      ]
    },
    {
      "cell_type": "code",
      "source": [
        "# Topological Error - Percent inputs where closest center and next closest center\n",
        "# are not neighbors\n",
        "ndist = som_net.neuron_dist\n",
        "sort_dist = np.argsort(x_w_dist,axis=0)\n",
        "top_dist = [ndist[sort_dist[0,ii],sort_dist[1,ii]] for ii  in range(sort_dist.shape[1])]\n",
        "neighbors = np.where(np.array(top_dist)>1.1)\n",
        "top_error = 100*len(neighbors[0])/x_w_dist.shape[1]\n",
        "print('Topological Error (1st neighbor) = ' + str(top_error) + '%')\n",
        "neighbors = np.where(np.array(top_dist)>2.1)\n",
        "top_error = 100*len(neighbors[0])/x_w_dist.shape[1]\n",
        "print('Topological Error (1st and 2nd neighbor) = ' + str(top_error) + '%')"
      ],
      "metadata": {
        "colab": {
          "base_uri": "https://localhost:8080/"
        },
        "id": "X1uHQOBUa2ua",
        "outputId": "e354183e-8193-4b13-9f7e-316814b56eb2"
      },
      "execution_count": null,
      "outputs": [
        {
          "output_type": "stream",
          "name": "stdout",
          "text": [
            "Topological Error (1st neighbor) = 4.258851211900655%\n",
            "Topological Error (1st and 2nd neighbor) = 0.012961504332133564%\n"
          ]
        }
      ]
    },
    {
      "cell_type": "code",
      "source": [
        "# Distortion\n",
        "dd = [1, 2, 3] # neighborhood distances\n",
        "ww = som_net.w\n",
        "wwdist = cdist(ww, ww, 'euclidean')\n",
        "sst  = ndist[:, ind1]\n",
        "for d in dd:\n",
        "    factor1 = 2*d*d\n",
        "    factor2 = Q*d*np.sqrt(2*np.pi)\n",
        "    temp = np.exp(-np.multiply(sst,sst)/factor1)\n",
        "    distortion = np.sum(np.multiply(temp,x_w_dist))/factor2\n",
        "    print('Distortion (d='+str(d)+') = ' + str(distortion))"
      ],
      "metadata": {
        "id": "ZAiFmpr2a5f8",
        "outputId": "b1375d96-0aa1-4c65-8f30-eb44683325a5",
        "colab": {
          "base_uri": "https://localhost:8080/"
        }
      },
      "execution_count": null,
      "outputs": [
        {
          "output_type": "stream",
          "name": "stdout",
          "text": [
            "Distortion (d=1) = 20.50196417626579\n",
            "Distortion (d=2) = 25.59142786753177\n",
            "Distortion (d=3) = 22.603057573992704\n"
          ]
        }
      ]
    }
  ]
}