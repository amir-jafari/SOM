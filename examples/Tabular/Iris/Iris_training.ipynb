{
 "nbformat": 4,
 "nbformat_minor": 0,
 "metadata": {
  "colab": {
   "provenance": [],
   "authorship_tag": "ABX9TyP4rghHRg5kso5iwsZjYrzJ",
   "include_colab_link": true
  },
  "kernelspec": {
   "name": "python3",
   "language": "python",
   "display_name": "Python 3 (ipykernel)"
  },
  "language_info": {
   "name": "python"
  }
 },
 "cells": [
  {
   "cell_type": "markdown",
   "metadata": {
    "id": "view-in-github",
    "colab_type": "text"
   },
   "source": [
    "<a href=\"https://colab.research.google.com/github/amir-jafari/SOM/blob/main/examples/Tabular/Iris/Iris_training.ipynb\" target=\"_parent\"><img src=\"https://colab.research.google.com/assets/colab-badge.svg\" alt=\"Open In Colab\"/></a>"
   ]
  },
  {
   "cell_type": "markdown",
   "source": [
    "In this notebook we will see the basics of how to use NNSOM with Iris dataset."
   ],
   "metadata": {
    "id": "gzZ7R3Z6C2Pn"
   }
  },
  {
   "cell_type": "code",
   "execution_count": 1,
   "metadata": {
    "colab": {
     "base_uri": "https://localhost:8080/"
    },
    "id": "mp9GB6LJBhEu",
    "outputId": "62116560-0676-4032-b0a1-faf64b7f7839",
    "ExecuteTime": {
     "end_time": "2024-03-26T16:08:06.389232Z",
     "start_time": "2024-03-26T16:08:06.249932Z"
    }
   },
   "outputs": [],
   "source": [
    "import sys\n",
    "IN_COLAB = 'google.colab' in sys.modules\n",
    "\n",
    "if IN_COLAB:\n",
    "    # Install NNSOM\n",
    "    !pip install --upgrade NNSOM"
   ]
  },
  {
   "cell_type": "code",
   "source": [
    "from NNSOM.som import SOM\n",
    "from NNSOM.plots import SOMPlots\n",
    "from NNSOM.utils import *"
   ],
   "metadata": {
    "id": "L62H8-9NB5NV",
    "ExecuteTime": {
     "end_time": "2024-03-26T16:08:09.707389Z",
     "start_time": "2024-03-26T16:08:06.256448Z"
    }
   },
   "execution_count": 2,
   "outputs": [
    {
     "name": "stderr",
     "output_type": "stream",
     "text": [
      "/Users/sravya/venv/lib/python3.9/site-packages/urllib3/__init__.py:35: NotOpenSSLWarning: urllib3 v2 only supports OpenSSL 1.1.1+, currently the 'ssl' module is compiled with 'LibreSSL 2.8.3'. See: https://github.com/urllib3/urllib3/issues/3020\n",
      "  warnings.warn(\n"
     ]
    }
   ]
  },
  {
   "cell_type": "markdown",
   "source": [
    "Set the parameters used for NNSOM"
   ],
   "metadata": {
    "id": "CpPZPQWfDa9C"
   }
  },
  {
   "cell_type": "code",
   "source": [
    "# SOM Parameters\n",
    "SOM_Row_Num = 4  # The number of row used for the SOM grid.\n",
    "Dimensions = (SOM_Row_Num, SOM_Row_Num) # The dimensions of the SOM grid.\n",
    "\n",
    "# Training Parameters\n",
    "Epochs = 500\n",
    "Steps = 100\n",
    "Init_neighborhood = 3\n",
    "\n",
    "# Random State\n",
    "from numpy.random import default_rng\n",
    "SEED = 1234567\n",
    "rng = default_rng(SEED)"
   ],
   "metadata": {
    "id": "SDjzI8O5DfRX",
    "ExecuteTime": {
     "end_time": "2024-03-26T16:08:09.708828Z",
     "start_time": "2024-03-26T16:08:09.706724Z"
    }
   },
   "execution_count": 3,
   "outputs": []
  },
  {
   "cell_type": "markdown",
   "source": [
    "NNSOM relies on the Python ecosystem to import and preprocess the data. For this example we will load the Iris dataset dataset using numpy and pandas:"
   ],
   "metadata": {
    "id": "3TZSyHCEDAPN"
   }
  },
  {
   "cell_type": "code",
   "source": [
    "from sklearn.datasets import load_iris\n",
    "import numpy as np\n",
    "import pandas as pd\n",
    "from sklearn.preprocessing import MinMaxScaler\n",
    "\n",
    "iris = load_iris()\n",
    "X = iris.data\n",
    "y = iris.target\n",
    "\n",
    "# Preprocessing data\n",
    "X = X[rng.permutation(len(X))]\n",
    "y = y[rng.permutation(len(X))]\n",
    "\n",
    "scaler = MinMaxScaler(feature_range=(-1, 1))\n",
    "X = scaler.fit_transform(X)\n",
    "X = np.transpose(X)"
   ],
   "metadata": {
    "id": "qJaJOHpgC7d5",
    "ExecuteTime": {
     "end_time": "2024-03-26T16:08:10.183990Z",
     "start_time": "2024-03-26T16:08:09.710086Z"
    }
   },
   "execution_count": 4,
   "outputs": []
  },
  {
   "cell_type": "markdown",
   "source": [
    "Training SOM. We will use SOMPlots which is child class of SOM because we want to plot SOM."
   ],
   "metadata": {
    "id": "iUfJm8E6EUeV"
   }
  },
  {
   "cell_type": "code",
   "source": [
    "som = SOMPlots(Dimensions)\n",
    "som.init_w(X)\n",
    "som.train(X, Init_neighborhood, Epochs, Steps)"
   ],
   "metadata": {
    "colab": {
     "base_uri": "https://localhost:8080/"
    },
    "id": "-1npBVaOEem5",
    "outputId": "a8e580f7-07df-42a6-c038-dbd47c768860",
    "ExecuteTime": {
     "end_time": "2024-03-26T16:08:10.233748Z",
     "start_time": "2024-03-26T16:08:10.092247Z"
    }
   },
   "execution_count": 5,
   "outputs": [
    {
     "name": "stdout",
     "output_type": "stream",
     "text": [
      "Beginning Initialization\n",
      "Current Time = 12:08:10\n",
      "Ending Initialization\n",
      "Current Time = 12:08:10\n",
      "Beginning Training\n",
      "Current Time = 12:08:10\n",
      "50\n",
      "Current Time = 12:08:10\n",
      "100\n",
      "Current Time = 12:08:10\n",
      "150\n",
      "Current Time = 12:08:10\n",
      "200\n",
      "Current Time = 12:08:10\n",
      "250\n",
      "Current Time = 12:08:10\n",
      "300\n",
      "Current Time = 12:08:10\n",
      "350\n",
      "Current Time = 12:08:10\n",
      "400\n",
      "Current Time = 12:08:10\n",
      "450\n",
      "Current Time = 12:08:10\n",
      "500\n",
      "Current Time = 12:08:10\n",
      "Ending Training\n",
      "Current Time = 12:08:10\n"
     ]
    }
   ]
  },
  {
   "cell_type": "markdown",
   "source": [
    "Save the trained model"
   ],
   "metadata": {
    "id": "9dha9kQevXJh"
   }
  },
  {
   "cell_type": "code",
   "source": [
    "import os\n",
    "from google.colab import drive\n",
    "\n",
    "drive.mount('/content/drive')\n",
    "\n",
    "abs_path = \"/content/drive/MyDrive/Colab Notebooks/NNSOM/Examples/Iris\" + os.sep\n",
    "\n",
    "Trained_SOM_File = \"SOM_Model_iris_Epoch_\" + str(Epochs) + '_Seed_'  + str(SEED) + '_Size_' + str(SOM_Row_Num) + '.pkl'\n",
    "\n",
    "som.save_pickle(Trained_SOM_File, abs_path)"
   ],
   "metadata": {
    "id": "oBijKxAvvKLB",
    "ExecuteTime": {
     "end_time": "2024-03-26T16:08:10.756226Z",
     "start_time": "2024-03-26T16:08:10.221617Z"
    }
   },
   "execution_count": 6,
   "outputs": [
    {
     "ename": "ModuleNotFoundError",
     "evalue": "No module named 'google.colab'",
     "output_type": "error",
     "traceback": [
      "\u001B[0;31m---------------------------------------------------------------------------\u001B[0m",
      "\u001B[0;31mModuleNotFoundError\u001B[0m                       Traceback (most recent call last)",
      "Cell \u001B[0;32mIn[6], line 2\u001B[0m\n\u001B[1;32m      1\u001B[0m \u001B[38;5;28;01mimport\u001B[39;00m \u001B[38;5;21;01mos\u001B[39;00m\n\u001B[0;32m----> 2\u001B[0m \u001B[38;5;28;01mfrom\u001B[39;00m \u001B[38;5;21;01mgoogle\u001B[39;00m\u001B[38;5;21;01m.\u001B[39;00m\u001B[38;5;21;01mcolab\u001B[39;00m \u001B[38;5;28;01mimport\u001B[39;00m drive\n\u001B[1;32m      4\u001B[0m drive\u001B[38;5;241m.\u001B[39mmount(\u001B[38;5;124m'\u001B[39m\u001B[38;5;124m/content/drive\u001B[39m\u001B[38;5;124m'\u001B[39m)\n\u001B[1;32m      6\u001B[0m abs_path \u001B[38;5;241m=\u001B[39m \u001B[38;5;124m\"\u001B[39m\u001B[38;5;124m/content/drive/MyDrive/Colab Notebooks/NNSOM/Examples/Iris\u001B[39m\u001B[38;5;124m\"\u001B[39m \u001B[38;5;241m+\u001B[39m os\u001B[38;5;241m.\u001B[39msep\n",
      "\u001B[0;31mModuleNotFoundError\u001B[0m: No module named 'google.colab'"
     ]
    }
   ]
  },
  {
   "cell_type": "markdown",
   "source": [
    "Visualize the SOM"
   ],
   "metadata": {
    "id": "48hNILoiLOjy"
   }
  },
  {
   "cell_type": "code",
   "source": [
    "import matplotlib.pyplot as plt\n",
    "%matplotlib inline"
   ],
   "metadata": {
    "id": "cgn7yLCmGRv-",
    "ExecuteTime": {
     "start_time": "2024-03-26T16:08:10.753482Z"
    }
   },
   "execution_count": null,
   "outputs": []
  },
  {
   "cell_type": "markdown",
   "source": [
    "SOM Topology"
   ],
   "metadata": {
    "id": "DvLGPVR0LbeJ"
   }
  },
  {
   "cell_type": "code",
   "source": [
    "fig, ax, patches = som.plt_top()\n",
    "plt.show()"
   ],
   "metadata": {
    "colab": {
     "base_uri": "https://localhost:8080/",
     "height": 487
    },
    "id": "b8fnLSryLSAs",
    "outputId": "fe38ed1f-baf0-44be-e4b3-0898b420f08f",
    "ExecuteTime": {
     "start_time": "2024-03-26T16:08:10.755454Z"
    }
   },
   "execution_count": null,
   "outputs": []
  },
  {
   "cell_type": "markdown",
   "source": [
    "SOM Topology with neuron number"
   ],
   "metadata": {
    "id": "7mY_Tl8CMMwg"
   }
  },
  {
   "cell_type": "code",
   "source": [
    "fig, ax, pathces, text = som.plt_top_num()\n",
    "plt.show()"
   ],
   "metadata": {
    "colab": {
     "base_uri": "https://localhost:8080/",
     "height": 487
    },
    "id": "R6H1qJGALmES",
    "outputId": "c58b7d92-166d-4d08-9164-457f8fb8fca9",
    "ExecuteTime": {
     "start_time": "2024-03-26T16:08:10.757142Z"
    }
   },
   "execution_count": null,
   "outputs": []
  },
  {
   "cell_type": "markdown",
   "source": [
    "Hit Histogram"
   ],
   "metadata": {
    "id": "FGAD2Z_2MfUy"
   }
  },
  {
   "cell_type": "code",
   "source": [
    "fig, ax, patches, text = som.hit_hist(X, True)\n",
    "plt.show()"
   ],
   "metadata": {
    "colab": {
     "base_uri": "https://localhost:8080/",
     "height": 807
    },
    "id": "2Tvc7aIfMX2O",
    "outputId": "8d038808-7000-486d-f19a-f5d6cde49651",
    "ExecuteTime": {
     "start_time": "2024-03-26T16:08:10.962148Z"
    }
   },
   "execution_count": null,
   "outputs": []
  },
  {
   "cell_type": "markdown",
   "source": [
    "Neighborhood Connection Map"
   ],
   "metadata": {
    "id": "wzya7_skMseU"
   }
  },
  {
   "cell_type": "code",
   "source": [
    "fig, ax, patches = som.plt_nc()\n",
    "plt.show()"
   ],
   "metadata": {
    "colab": {
     "base_uri": "https://localhost:8080/",
     "height": 653
    },
    "id": "sShU3Q-oMqt1",
    "outputId": "5560803b-483d-42ff-c725-bd82bf632217",
    "ExecuteTime": {
     "start_time": "2024-03-26T16:08:10.962639Z"
    }
   },
   "execution_count": null,
   "outputs": []
  },
  {
   "cell_type": "markdown",
   "source": [
    "Distance map"
   ],
   "metadata": {
    "id": "7u-s-SqwNIjo"
   }
  },
  {
   "cell_type": "code",
   "source": [
    "fig, ax, patches = som.neuron_dist_plot()\n",
    "plt.show()"
   ],
   "metadata": {
    "colab": {
     "base_uri": "https://localhost:8080/",
     "height": 807
    },
    "id": "NQAOhM1iM-O-",
    "outputId": "862af8e7-0e76-42c4-ace1-0a9d858eb1c2",
    "ExecuteTime": {
     "end_time": "2024-03-26T16:08:10.968398Z",
     "start_time": "2024-03-26T16:08:10.962729Z"
    }
   },
   "execution_count": null,
   "outputs": []
  },
  {
   "cell_type": "markdown",
   "source": [
    "Weight Position Plot"
   ],
   "metadata": {
    "id": "v1l24f1ZNPKy"
   }
  },
  {
   "cell_type": "code",
   "source": [
    "som.plt_pos(inputs=None)"
   ],
   "metadata": {
    "colab": {
     "base_uri": "https://localhost:8080/",
     "height": 718
    },
    "id": "yuUd_SA-NOb9",
    "outputId": "13d7e059-9091-4641-ed5e-127f5700db0c",
    "ExecuteTime": {
     "start_time": "2024-03-26T16:08:10.962767Z"
    }
   },
   "execution_count": null,
   "outputs": []
  },
  {
   "cell_type": "markdown",
   "source": [
    "Weight as line plot"
   ],
   "metadata": {
    "id": "F80Uq8qdAagN"
   }
  },
  {
   "cell_type": "code",
   "source": [
    "fig, ax, h_axes = som.multiplot('wgts')\n",
    "plt.show()"
   ],
   "metadata": {
    "colab": {
     "base_uri": "https://localhost:8080/",
     "height": 821
    },
    "id": "5gb4H6rKAfWe",
    "outputId": "6dffbe5c-9963-4be4-caa6-17924ab81ce2",
    "ExecuteTime": {
     "start_time": "2024-03-26T16:08:10.962794Z"
    }
   },
   "execution_count": null,
   "outputs": []
  }
 ]
}
