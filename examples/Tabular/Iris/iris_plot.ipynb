{
 "nbformat": 4,
 "nbformat_minor": 0,
 "metadata": {
  "colab": {
   "provenance": []
  },
  "kernelspec": {
   "name": "python3",
   "language": "python",
   "display_name": "Python 3 (ipykernel)"
  },
  "language_info": {
   "name": "python"
  }
 },
 "cells": [
  {
   "cell_type": "code",
   "execution_count": 20,
   "metadata": {
    "colab": {
     "base_uri": "https://localhost:8080/"
    },
    "id": "ckrcrgF89d4y",
    "outputId": "346c08bb-ed3b-4691-ed46-ab4862671a2f",
    "ExecuteTime": {
     "end_time": "2024-03-26T01:56:44.021463Z",
     "start_time": "2024-03-26T01:56:41.862934Z"
    }
   },
   "outputs": [
    {
     "name": "stdout",
     "output_type": "stream",
     "text": [
      "Requirement already satisfied: NNSOM in /Users/sravya/venv/lib/python3.9/site-packages (1.0.0)\r\n",
      "Collecting NNSOM\r\n",
      "  Downloading nnsom-1.0.10-py3-none-any.whl.metadata (1.5 kB)\r\n",
      "Downloading nnsom-1.0.10-py3-none-any.whl (14 kB)\r\n",
      "Installing collected packages: NNSOM\r\n",
      "  Attempting uninstall: NNSOM\r\n",
      "    Found existing installation: NNSOM 1.0.0\r\n",
      "    Uninstalling NNSOM-1.0.0:\r\n",
      "      Successfully uninstalled NNSOM-1.0.0\r\n",
      "Successfully installed NNSOM-1.0.10\r\n",
      "\r\n",
      "\u001B[1m[\u001B[0m\u001B[34;49mnotice\u001B[0m\u001B[1;39;49m]\u001B[0m\u001B[39;49m A new release of pip is available: \u001B[0m\u001B[31;49m23.3.2\u001B[0m\u001B[39;49m -> \u001B[0m\u001B[32;49m24.0\u001B[0m\r\n",
      "\u001B[1m[\u001B[0m\u001B[34;49mnotice\u001B[0m\u001B[1;39;49m]\u001B[0m\u001B[39;49m To update, run: \u001B[0m\u001B[32;49mpip install --upgrade pip\u001B[0m\r\n"
     ]
    }
   ],
   "source": [
    "import sys\n",
    "IN_COLAB = 'google.colab' in sys.modules\n",
    "\n",
    "#if IN_COLAB:\n",
    "    # Install NNSOM\n",
    "!pip install --upgrade NNSOM"
   ]
  },
  {
   "cell_type": "code",
   "source": [
    "from NNSOM.plots import SOMPlots\n",
    "from NNSOM.som import SOM\n",
    "from NNSOM.utils import *\n",
    "import matplotlib.pyplot as plt"
   ],
   "metadata": {
    "id": "22jtYhl99nfu",
    "ExecuteTime": {
     "end_time": "2024-03-26T01:56:44.022017Z",
     "start_time": "2024-03-26T01:56:44.007867Z"
    }
   },
   "execution_count": 21,
   "outputs": []
  },
  {
   "cell_type": "code",
   "source": [
    "# SOM Parameters\n",
    "SOM_Row_Num = 4  # The number of row used for the SOM grid.\n",
    "Dimensions = (SOM_Row_Num, SOM_Row_Num) # The dimensions of the SOM grid.\n",
    "\n",
    "# Random State\n",
    "from numpy.random import default_rng\n",
    "SEED = 1234567\n",
    "rng = default_rng(SEED)"
   ],
   "metadata": {
    "id": "RYMo5ZbI9pfq",
    "ExecuteTime": {
     "end_time": "2024-03-26T01:56:44.022368Z",
     "start_time": "2024-03-26T01:56:44.008411Z"
    }
   },
   "execution_count": 22,
   "outputs": []
  },
  {
   "cell_type": "code",
   "source": [
    "from sklearn.datasets import load_iris\n",
    "import numpy as np\n",
    "import pandas as pd\n",
    "from sklearn.preprocessing import MinMaxScaler\n",
    "\n",
    "iris = load_iris()\n",
    "X = iris.data\n",
    "y = iris.target\n",
    "\n",
    "# Preprocessing data\n",
    "X = X[rng.permutation(len(X))]\n",
    "y = y[rng.permutation(len(X))]\n",
    "\n",
    "scaler = MinMaxScaler(feature_range=(-1, 1))\n",
    "X = scaler.fit_transform(X)\n",
    "X = np.transpose(X)"
   ],
   "metadata": {
    "id": "vxfVHpH39sNX",
    "ExecuteTime": {
     "end_time": "2024-03-26T01:56:44.022568Z",
     "start_time": "2024-03-26T01:56:44.008669Z"
    }
   },
   "execution_count": 23,
   "outputs": []
  },
  {
   "cell_type": "markdown",
   "source": [
    "Loading Pre-trained SOM"
   ],
   "metadata": {
    "id": "RbHB_360-Bjv"
   }
  },
  {
   "cell_type": "code",
   "source": [
    "from google.colab import drive\n",
    "drive.mount('/content/drive')"
   ],
   "metadata": {
    "colab": {
     "base_uri": "https://localhost:8080/"
    },
    "id": "Nrep9Uc49znh",
    "outputId": "fe84e666-bb17-44b6-d01d-a3b41f5bd394",
    "ExecuteTime": {
     "end_time": "2024-03-26T01:56:44.098351Z",
     "start_time": "2024-03-26T01:56:44.085835Z"
    }
   },
   "execution_count": 24,
   "outputs": [
    {
     "ename": "ModuleNotFoundError",
     "evalue": "No module named 'google.colab'",
     "output_type": "error",
     "traceback": [
      "\u001B[0;31m---------------------------------------------------------------------------\u001B[0m",
      "\u001B[0;31mModuleNotFoundError\u001B[0m                       Traceback (most recent call last)",
      "Cell \u001B[0;32mIn[24], line 1\u001B[0m\n\u001B[0;32m----> 1\u001B[0m \u001B[38;5;28;01mfrom\u001B[39;00m \u001B[38;5;21;01mgoogle\u001B[39;00m\u001B[38;5;21;01m.\u001B[39;00m\u001B[38;5;21;01mcolab\u001B[39;00m \u001B[38;5;28;01mimport\u001B[39;00m drive\n\u001B[1;32m      2\u001B[0m drive\u001B[38;5;241m.\u001B[39mmount(\u001B[38;5;124m'\u001B[39m\u001B[38;5;124m/content/drive\u001B[39m\u001B[38;5;124m'\u001B[39m)\n",
      "\u001B[0;31mModuleNotFoundError\u001B[0m: No module named 'google.colab'"
     ]
    }
   ]
  },
  {
   "cell_type": "code",
   "source": [
    "import os\n",
    "\n",
    "model_path = \"/Users/sravya/Desktop/Capstone/SOM/examples/Tabular/Iris/\"\n",
    "trianed_file_name = \"SOM_Model_iris_Epoch_500_Seed_1234567_Size_4.pkl\"\n",
    "\n",
    "# SOM Parameters\n",
    "SOM_Row_Num = 4  # The number of row used for the SOM grid.\n",
    "Dimensions = (SOM_Row_Num, SOM_Row_Num) # The dimensions of the SOM grid.\n",
    "\n",
    "som = SOMPlots(Dimensions)\n",
    "som = som.load_pickle(trianed_file_name, model_path)"
   ],
   "metadata": {
    "id": "bnN73Pp6-DFr",
    "ExecuteTime": {
     "end_time": "2024-03-26T01:56:44.108896Z",
     "start_time": "2024-03-26T01:56:44.107798Z"
    }
   },
   "execution_count": null,
   "outputs": []
  },
  {
   "cell_type": "code",
   "source": [
    "# Find quantization error\n",
    "quant_err = som.quantization_error()\n",
    "print('Quantization error: ' + str(quant_err))"
   ],
   "metadata": {
    "id": "S4zUAkodKelc",
    "colab": {
     "base_uri": "https://localhost:8080/"
    },
    "outputId": "b54b3df7-af94-46e8-86a0-a2fe6d9c8e27",
    "ExecuteTime": {
     "end_time": "2024-03-26T01:56:44.113911Z",
     "start_time": "2024-03-26T01:56:44.110789Z"
    }
   },
   "execution_count": null,
   "outputs": []
  },
  {
   "cell_type": "code",
   "source": [
    "# Find topological error\n",
    "top_error_1, top_error_1_2 =  som.topological_error(X)\n",
    "print('Topological Error (1st neighbor) = ' + str(top_error_1) + '%')\n",
    "print('Topological Error (1st and 2nd neighbor) = ' + str(top_error_1_2) + '%')"
   ],
   "metadata": {
    "id": "5FLz4OOJKuAB",
    "colab": {
     "base_uri": "https://localhost:8080/"
    },
    "outputId": "07bbbed1-c876-4813-f5d1-a26eb7fe01a9",
    "ExecuteTime": {
     "start_time": "2024-03-26T01:56:44.113635Z"
    }
   },
   "execution_count": null,
   "outputs": []
  },
  {
   "cell_type": "code",
   "source": [
    "# Find Distortion Error\n",
    "som.distortion_error(X)"
   ],
   "metadata": {
    "id": "CEWurdrKRxdB",
    "colab": {
     "base_uri": "https://localhost:8080/"
    },
    "outputId": "e59ec69e-f030-45cc-9b7d-0bc0a14fc5e0",
    "ExecuteTime": {
     "start_time": "2024-03-26T01:56:44.117520Z"
    }
   },
   "execution_count": null,
   "outputs": []
  },
  {
   "cell_type": "markdown",
   "source": [
    "Visualization"
   ],
   "metadata": {
    "id": "xz-ibWyH_wmh"
   }
  },
  {
   "cell_type": "markdown",
   "source": [
    "Data Preparation to pass additional variables"
   ],
   "metadata": {
    "id": "Yp6czHY-qJaH"
   }
  },
  {
   "cell_type": "code",
   "source": [
    "# persentage of sentosa\n",
    "numNeurons = som.numNeurons\n",
    "\n",
    "perc_sentosa = []\n",
    "\n"
   ],
   "metadata": {
    "id": "1N_14IWEp68v",
    "ExecuteTime": {
     "start_time": "2024-03-26T01:56:44.121143Z"
    }
   },
   "execution_count": null,
   "outputs": []
  },
  {
   "cell_type": "code",
   "source": [
    "proportion_sentosa = []\n",
    "for i in range(som.numNeurons):  # S is the total number of neurons\n",
    "    cluster_indices = som.clust[i]\n",
    "    sentosa_in_cluster = 0\n",
    "\n",
    "    # Count how many indices in this cluster are in sentosa\n",
    "    for index in cluster_indices:\n",
    "        if y[index] == 0:\n",
    "            sentosa_in_cluster += 1\n",
    "\n",
    "    # Calculate the proportion of sentosa in this cluster\n",
    "    if len(cluster_indices) > 0:\n",
    "        proportion = sentosa_in_cluster / len(cluster_indices)\n",
    "    else:\n",
    "        proportion = 0  # Avoid division by zero if the cluster is empty\n",
    "\n",
    "    # Add the calculated proportion to the list\n",
    "    proportion_sentosa.append(proportion)\n",
    "\n",
    "# Get percentatges for each neuron\n",
    "perc_sentosa = np.array(proportion_sentosa) * 100"
   ],
   "metadata": {
    "id": "sXhtGKAh_P7x",
    "ExecuteTime": {
     "start_time": "2024-03-26T01:56:44.123433Z"
    }
   },
   "execution_count": null,
   "outputs": []
  },
  {
   "cell_type": "markdown",
   "source": [
    "Hit Histogram"
   ],
   "metadata": {
    "id": "3TK7od0H54Hj"
   }
  },
  {
   "cell_type": "code",
   "source": [
    "proportion_sentosa"
   ],
   "metadata": {
    "colab": {
     "base_uri": "https://localhost:8080/"
    },
    "id": "761vQNrbZ8Ag",
    "outputId": "b17e5dda-f8f5-4a8d-f7c0-0ea00fab39f9",
    "ExecuteTime": {
     "end_time": "2024-03-26T01:56:44.145363Z",
     "start_time": "2024-03-26T01:56:44.126910Z"
    }
   },
   "execution_count": null,
   "outputs": []
  },
  {
   "cell_type": "code",
   "source": [
    "# Hit Histogram\n",
    "fig3, ax3, patches3, text3 = som.hit_hist(X, True)\n",
    "plt.show()"
   ],
   "metadata": {
    "id": "w9GCW7Ws4INx",
    "colab": {
     "base_uri": "https://localhost:8080/",
     "height": 807
    },
    "outputId": "ffcf99fc-96e7-4bfc-bd87-454e1a2f5950",
    "ExecuteTime": {
     "start_time": "2024-03-26T01:56:44.129577Z"
    }
   },
   "execution_count": null,
   "outputs": []
  },
  {
   "cell_type": "markdown",
   "source": [
    "Gray Histogram\n",
    "\n",
    "Darker: Less sentosa"
   ],
   "metadata": {
    "id": "zqm3BcoKAGz7"
   }
  },
  {
   "cell_type": "code",
   "source": [
    "# Visualization\n",
    "fig, ax, patches, text = som.gray_hist(X, perc_sentosa)\n",
    "plt.show()"
   ],
   "metadata": {
    "id": "flYWrS5C--30",
    "colab": {
     "base_uri": "https://localhost:8080/",
     "height": 806
    },
    "outputId": "9d631270-9ee0-4069-9ea5-2d3b74a76c71",
    "ExecuteTime": {
     "start_time": "2024-03-26T01:56:44.133426Z"
    }
   },
   "execution_count": null,
   "outputs": []
  },
  {
   "cell_type": "markdown",
   "source": [
    "Color Hist"
   ],
   "metadata": {
    "id": "qaSuC-HjAIOk"
   }
  },
  {
   "cell_type": "code",
   "source": [
    "fig, ax, patches, text = som.color_hist(X, proportion_sentosa)\n",
    "plt.show()"
   ],
   "metadata": {
    "id": "Ckskad98AJk6",
    "colab": {
     "base_uri": "https://localhost:8080/",
     "height": 807
    },
    "outputId": "9fb3e7d5-b727-4e82-8f20-dce12b056235",
    "ExecuteTime": {
     "start_time": "2024-03-26T01:56:44.137435Z"
    }
   },
   "execution_count": null,
   "outputs": []
  },
  {
   "cell_type": "markdown",
   "source": [
    "Complex Hist"
   ],
   "metadata": {
    "id": "BeAk2d2QAKCb"
   }
  },
  {
   "cell_type": "code",
   "source": [
    "fig, ax, patches, text = som.cmplx_hit_hist(X, perc_sentosa, y[0])\n",
    "plt.show()"
   ],
   "metadata": {
    "id": "OimG_RLUALRx",
    "colab": {
     "base_uri": "https://localhost:8080/",
     "height": 162
    },
    "outputId": "e525818c-2ddc-4362-9fb4-f90cb4eb3d78",
    "ExecuteTime": {
     "start_time": "2024-03-26T01:56:44.140054Z"
    }
   },
   "execution_count": null,
   "outputs": []
  },
  {
   "cell_type": "markdown",
   "source": [
    "Simple Grid"
   ],
   "metadata": {
    "id": "DBqpPXwpAL1d"
   }
  },
  {
   "cell_type": "code",
   "source": [
    "# Plot color code for sentosa in each cluster\n",
    "fig51, ax51, patches51, cbar51 = som.simple_grid(perc_sentosa, proportion_sentosa)\n",
    "plt.title('Simple grid for sentosa', fontsize=16)\n",
    "plt.show()"
   ],
   "metadata": {
    "id": "HsbBtB-2ATxz",
    "colab": {
     "base_uri": "https://localhost:8080/",
     "height": 831
    },
    "outputId": "5921d0bc-590c-4d3e-dab0-b7955a2a5f92",
    "ExecuteTime": {
     "start_time": "2024-03-26T01:56:44.143138Z"
    }
   },
   "execution_count": null,
   "outputs": []
  },
  {
   "cell_type": "code",
   "source": [
    "perc_sentosa"
   ],
   "metadata": {
    "colab": {
     "base_uri": "https://localhost:8080/"
    },
    "id": "a7XA3I8YYjqk",
    "outputId": "7ca01732-5e74-44bf-e208-95dba8fee1d1",
    "ExecuteTime": {
     "start_time": "2024-03-26T01:56:44.145252Z"
    }
   },
   "execution_count": null,
   "outputs": []
  },
  {
   "cell_type": "markdown",
   "source": [
    "Multiplot - pie"
   ],
   "metadata": {
    "id": "4CBNMx7xAUUw"
   }
  },
  {
   "cell_type": "code",
   "source": [
    "for i in range(len(proportion_sentosa)):\n",
    "    Title = f'Pie Plot {i}'  # Title for the current plot\n",
    "    fig2, ax2, handles2 = som.multiplot('pie', Title, proportion_sentosa[i])\n",
    "    plt.show()\n"
   ],
   "metadata": {
    "id": "LReQXzjzryTE",
    "colab": {
     "base_uri": "https://localhost:8080/",
     "height": 1000
    },
    "outputId": "e070065c-bb91-4f5b-9943-50b42fb9e7f0",
    "ExecuteTime": {
     "start_time": "2024-03-26T01:56:44.147374Z"
    }
   },
   "execution_count": null,
   "outputs": []
  },
  {
   "cell_type": "markdown",
   "source": [
    "Multiplot - dist"
   ],
   "metadata": {
    "id": "uDrTrURKr08z"
   }
  },
  {
   "cell_type": "code",
   "source": [
    "fig9, ax9, h_axes9 = som.multiplot('dist',proportion_sentosa)\n",
    "plt.show()"
   ],
   "metadata": {
    "id": "CebHaKvXr2u2",
    "colab": {
     "base_uri": "https://localhost:8080/",
     "height": 1000
    },
    "outputId": "773752e5-987d-4af5-fae0-4769bcb75baf",
    "ExecuteTime": {
     "start_time": "2024-03-26T01:56:44.149530Z"
    }
   },
   "execution_count": null,
   "outputs": []
  },
  {
   "cell_type": "markdown",
   "source": [
    "Multiplot - hist"
   ],
   "metadata": {
    "id": "QD-xuLB_r8Z7"
   }
  },
  {
   "cell_type": "code",
   "source": [
    "fig9, ax9, h_axes9 = som.multiplot('hist',proportion_sentosa)\n",
    "plt.show()"
   ],
   "metadata": {
    "id": "YnB2jLGzsA-X",
    "colab": {
     "base_uri": "https://localhost:8080/",
     "height": 821
    },
    "outputId": "4fdc8256-01b4-4998-bb3c-03c787a3c520",
    "ExecuteTime": {
     "start_time": "2024-03-26T01:56:44.152700Z"
    }
   },
   "execution_count": null,
   "outputs": []
  },
  {
   "cell_type": "markdown",
   "source": [
    "Multiplot - boxplot"
   ],
   "metadata": {
    "id": "0HKq6gtssBkw"
   }
  },
  {
   "cell_type": "code",
   "source": [
    "# Convert the list to a numpy array and reshape it\n",
    "fig9, ax9, h_axes9 = som.multiplot('boxplot',proportion_sentosa)\n",
    "plt.show()"
   ],
   "metadata": {
    "id": "8x4jBTgasC-q",
    "colab": {
     "base_uri": "https://localhost:8080/",
     "height": 1000
    },
    "outputId": "cf54671c-badc-42a2-c067-bbc930fdfbda",
    "ExecuteTime": {
     "start_time": "2024-03-26T01:56:44.154679Z"
    }
   },
   "execution_count": null,
   "outputs": []
  },
  {
   "cell_type": "markdown",
   "source": [
    "Multiplot - fanchart"
   ],
   "metadata": {
    "id": "-UQBPli9sDga"
   }
  },
  {
   "cell_type": "code",
   "source": [],
   "metadata": {
    "id": "xtcVkXOtsF4m",
    "ExecuteTime": {
     "start_time": "2024-03-26T01:56:44.156965Z"
    }
   },
   "execution_count": null,
   "outputs": []
  },
  {
   "cell_type": "markdown",
   "source": [
    "Multiplot - violin"
   ],
   "metadata": {
    "id": "qLqSxjBqsGVx"
   }
  },
  {
   "cell_type": "code",
   "source": [],
   "metadata": {
    "id": "Hgs_nifgsJJJ",
    "ExecuteTime": {
     "start_time": "2024-03-26T01:56:44.158074Z"
    }
   },
   "execution_count": null,
   "outputs": []
  }
 ]
}
