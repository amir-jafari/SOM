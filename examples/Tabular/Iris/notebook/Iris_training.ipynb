{
 "nbformat": 4,
 "nbformat_minor": 0,
 "metadata": {
  "colab": {
   "provenance": [],
   "include_colab_link": true
  },
  "kernelspec": {
   "name": "python3",
   "language": "python",
   "display_name": "Python 3 (ipykernel)"
  },
  "language_info": {
   "name": "python"
  }
 },
 "cells": [
  {
   "cell_type": "markdown",
   "metadata": {
    "id": "view-in-github",
    "colab_type": "text"
   },
   "source": [
    "<a href=\"https://colab.research.google.com/github/amir-jafari/SOM/blob/main/examples/Tabular/Iris/Iris_training.ipynb\" target=\"_parent\"><img src=\"https://colab.research.google.com/assets/colab-badge.svg\" alt=\"Open In Colab\"/></a>"
   ]
  },
  {
   "cell_type": "markdown",
   "source": [
    "In this notebook we will see the basics of how to use NNSOM with Iris dataset."
   ],
   "metadata": {
    "id": "gzZ7R3Z6C2Pn"
   }
  },
  {
   "cell_type": "code",
   "execution_count": 1,
   "metadata": {
    "colab": {
     "base_uri": "https://localhost:8080/"
    },
    "id": "mp9GB6LJBhEu",
    "outputId": "aaf596b8-71c4-47b3-fb61-6720c60d0b62",
    "ExecuteTime": {
     "end_time": "2024-03-28T22:17:34.016592Z",
     "start_time": "2024-03-28T22:17:33.922151Z"
    }
   },
   "outputs": [],
   "source": [
    "import sys\n",
    "IN_COLAB = 'google.colab' in sys.modules\n",
    "\n",
    "if IN_COLAB:\n",
    "    # Install NNSOM\n",
    "    !pip install --upgrade NNSOM"
   ]
  },
  {
   "cell_type": "code",
   "source": [
    "from NNSOM.plots import SOMPlots\n",
    "from NNSOM.utils import *"
   ],
   "metadata": {
    "id": "L62H8-9NB5NV",
    "ExecuteTime": {
     "end_time": "2024-03-28T22:17:38.179188Z",
     "start_time": "2024-03-28T22:17:33.925818Z"
    }
   },
   "execution_count": 2,
   "outputs": [
    {
     "name": "stderr",
     "output_type": "stream",
     "text": [
      "/Users/sravya/venv/lib/python3.9/site-packages/urllib3/__init__.py:35: NotOpenSSLWarning: urllib3 v2 only supports OpenSSL 1.1.1+, currently the 'ssl' module is compiled with 'LibreSSL 2.8.3'. See: https://github.com/urllib3/urllib3/issues/3020\n",
      "  warnings.warn(\n"
     ]
    }
   ]
  },
  {
   "cell_type": "markdown",
   "source": [
    "Set the parameters used for NNSOM"
   ],
   "metadata": {
    "id": "CpPZPQWfDa9C"
   }
  },
  {
   "cell_type": "code",
   "source": [
    "# SOM Parameters\n",
    "SOM_Row_Num = 4  # The number of row used for the SOM grid.\n",
    "Dimensions = (SOM_Row_Num, SOM_Row_Num) # The dimensions of the SOM grid.\n",
    "\n",
    "# Training Parameters\n",
    "Epochs = 500\n",
    "Steps = 100\n",
    "Init_neighborhood = 3\n",
    "\n",
    "# Random State\n",
    "from numpy.random import default_rng\n",
    "SEED = 1234567\n",
    "rng = default_rng(SEED)"
   ],
   "metadata": {
    "id": "SDjzI8O5DfRX",
    "ExecuteTime": {
     "end_time": "2024-03-28T22:17:38.180041Z",
     "start_time": "2024-03-28T22:17:38.177022Z"
    }
   },
   "execution_count": 3,
   "outputs": []
  },
  {
   "cell_type": "markdown",
   "source": [
    "NNSOM relies on the Python ecosystem to import and preprocess the data. For this example we will load the Iris dataset dataset using numpy and pandas:"
   ],
   "metadata": {
    "id": "3TZSyHCEDAPN"
   }
  },
  {
   "cell_type": "code",
   "source": [
    "from sklearn.datasets import load_iris\n",
    "import numpy as np\n",
    "import pandas as pd\n",
    "from sklearn.preprocessing import MinMaxScaler\n",
    "\n",
    "iris = load_iris()\n",
    "X = iris.data\n",
    "y = iris.target\n",
    "\n",
    "# Preprocessing data\n",
    "X = X[rng.permutation(len(X))]\n",
    "y = y[rng.permutation(len(X))]\n",
    "\n",
    "scaler = MinMaxScaler(feature_range=(-1, 1))\n",
    "X_scaled = scaler.fit_transform(X)\n",
    "X = np.transpose(X_scaled)"
   ],
   "metadata": {
    "id": "qJaJOHpgC7d5",
    "ExecuteTime": {
     "end_time": "2024-03-28T22:17:38.706535Z",
     "start_time": "2024-03-28T22:17:38.179595Z"
    }
   },
   "execution_count": 4,
   "outputs": []
  },
  {
   "cell_type": "markdown",
   "source": [
    "Training SOM. We will use SOMPlots which is child class of SOM because we want to plot SOM."
   ],
   "metadata": {
    "id": "iUfJm8E6EUeV"
   }
  },
  {
   "cell_type": "code",
   "source": [
    "som = SOMPlots(Dimensions)\n",
    "som.init_w(X)\n",
    "som.train(X, Init_neighborhood, Epochs, Steps)"
   ],
   "metadata": {
    "colab": {
     "base_uri": "https://localhost:8080/"
    },
    "id": "-1npBVaOEem5",
    "outputId": "ada4bc46-85e2-4e4f-ffd4-8d2d5441526e",
    "ExecuteTime": {
     "end_time": "2024-03-28T22:17:38.711865Z",
     "start_time": "2024-03-28T22:17:38.596929Z"
    }
   },
   "execution_count": 5,
   "outputs": [
    {
     "name": "stdout",
     "output_type": "stream",
     "text": [
      "Beginning Initialization\n",
      "Current Time = 18:17:38\n",
      "Ending Initialization\n",
      "Current Time = 18:17:38\n",
      "Beginning Training\n",
      "Current Time = 18:17:38\n",
      "50\n",
      "Current Time = 18:17:38\n",
      "100\n",
      "Current Time = 18:17:38\n",
      "150\n",
      "Current Time = 18:17:38\n",
      "200\n",
      "Current Time = 18:17:38\n",
      "250\n",
      "Current Time = 18:17:38\n",
      "300\n",
      "Current Time = 18:17:38\n",
      "350\n",
      "Current Time = 18:17:38\n",
      "400\n",
      "Current Time = 18:17:38\n",
      "450\n",
      "Current Time = 18:17:38\n",
      "500\n",
      "Current Time = 18:17:38\n",
      "Ending Training\n",
      "Current Time = 18:17:38\n"
     ]
    }
   ]
  },
  {
   "cell_type": "markdown",
   "source": [
    "Save the trained model"
   ],
   "metadata": {
    "id": "9dha9kQevXJh"
   }
  },
  {
   "cell_type": "code",
   "source": [
    "import os\n",
    "from google.colab import drive\n",
    "\n",
    "drive.mount('/content/drive')\n",
    "\n",
    "abs_path = \"/content/drive/MyDrive/Colab Notebooks/NNSOM/Examples/Iris\" + os.sep\n",
    "\n",
    "Trained_SOM_File = \"SOM_Model_iris_Epoch_\" + str(Epochs) + '_Seed_'  + str(SEED) + '_Size_' + str(SOM_Row_Num) + '.pkl'\n",
    "\n",
    "som.save_pickle(Trained_SOM_File, abs_path)"
   ],
   "metadata": {
    "id": "oBijKxAvvKLB",
    "colab": {
     "base_uri": "https://localhost:8080/"
    },
    "outputId": "daa10cc3-df49-4314-c600-27b3aaff644f",
    "ExecuteTime": {
     "end_time": "2024-03-28T22:17:39.231317Z",
     "start_time": "2024-03-28T22:17:38.638752Z"
    }
   },
   "execution_count": 6,
   "outputs": [
    {
     "ename": "ModuleNotFoundError",
     "evalue": "No module named 'google.colab'",
     "output_type": "error",
     "traceback": [
      "\u001B[0;31m---------------------------------------------------------------------------\u001B[0m",
      "\u001B[0;31mModuleNotFoundError\u001B[0m                       Traceback (most recent call last)",
      "Cell \u001B[0;32mIn[6], line 2\u001B[0m\n\u001B[1;32m      1\u001B[0m \u001B[38;5;28;01mimport\u001B[39;00m \u001B[38;5;21;01mos\u001B[39;00m\n\u001B[0;32m----> 2\u001B[0m \u001B[38;5;28;01mfrom\u001B[39;00m \u001B[38;5;21;01mgoogle\u001B[39;00m\u001B[38;5;21;01m.\u001B[39;00m\u001B[38;5;21;01mcolab\u001B[39;00m \u001B[38;5;28;01mimport\u001B[39;00m drive\n\u001B[1;32m      4\u001B[0m drive\u001B[38;5;241m.\u001B[39mmount(\u001B[38;5;124m'\u001B[39m\u001B[38;5;124m/content/drive\u001B[39m\u001B[38;5;124m'\u001B[39m)\n\u001B[1;32m      6\u001B[0m abs_path \u001B[38;5;241m=\u001B[39m \u001B[38;5;124m\"\u001B[39m\u001B[38;5;124m/content/drive/MyDrive/Colab Notebooks/NNSOM/Examples/Iris\u001B[39m\u001B[38;5;124m\"\u001B[39m \u001B[38;5;241m+\u001B[39m os\u001B[38;5;241m.\u001B[39msep\n",
      "\u001B[0;31mModuleNotFoundError\u001B[0m: No module named 'google.colab'"
     ]
    }
   ]
  },
  {
   "cell_type": "markdown",
   "source": [
    "Error Analysis"
   ],
   "metadata": {
    "id": "RMl6DBlVNJet"
   }
  },
  {
   "cell_type": "code",
   "source": [
    "# Find quantization error\n",
    "quant_err = som.quantization_error()\n",
    "print('Quantization error: ' + str(quant_err))"
   ],
   "metadata": {
    "colab": {
     "base_uri": "https://localhost:8080/"
    },
    "id": "hIanP2tiNK72",
    "outputId": "8f7f3db4-bfc4-4278-d998-0b9bab7c465c",
    "ExecuteTime": {
     "start_time": "2024-03-28T22:17:39.227466Z"
    }
   },
   "execution_count": null,
   "outputs": []
  },
  {
   "cell_type": "code",
   "source": [
    "# Find topological error\n",
    "top_error_1, top_error_1_2 =  som.topological_error(X)\n",
    "print('Topological Error (1st neighbor) = ' + str(top_error_1) + '%')\n",
    "print('Topological Error (1st and 2nd neighbor) = ' + str(top_error_1_2) + '%')"
   ],
   "metadata": {
    "colab": {
     "base_uri": "https://localhost:8080/"
    },
    "id": "VpXC7jtNNOxC",
    "outputId": "e466b11c-6e81-41da-8657-fc245f8a8a12",
    "ExecuteTime": {
     "end_time": "2024-03-28T22:17:39.237457Z",
     "start_time": "2024-03-28T22:17:39.232785Z"
    }
   },
   "execution_count": null,
   "outputs": []
  },
  {
   "cell_type": "code",
   "source": [
    "# Find Distortion Error\n",
    "som.distortion_error(X)"
   ],
   "metadata": {
    "colab": {
     "base_uri": "https://localhost:8080/"
    },
    "id": "_r1qTQOXNPsM",
    "outputId": "4e958d1a-be32-4974-8ace-ccd186acbd06",
    "ExecuteTime": {
     "start_time": "2024-03-28T22:17:39.234472Z"
    }
   },
   "execution_count": null,
   "outputs": []
  },
  {
   "cell_type": "markdown",
   "source": [
    "Visualize the SOM"
   ],
   "metadata": {
    "id": "48hNILoiLOjy"
   }
  },
  {
   "cell_type": "code",
   "source": [
    "import matplotlib.pyplot as plt\n",
    "%matplotlib inline"
   ],
   "metadata": {
    "id": "cgn7yLCmGRv-",
    "ExecuteTime": {
     "start_time": "2024-03-28T22:17:39.236861Z"
    }
   },
   "execution_count": null,
   "outputs": []
  },
  {
   "cell_type": "markdown",
   "source": [
    "SOM Topology"
   ],
   "metadata": {
    "id": "DvLGPVR0LbeJ"
   }
  },
  {
   "cell_type": "code",
   "source": [
    "fig, ax, patches = som.plt_top()\n",
    "plt.show()"
   ],
   "metadata": {
    "colab": {
     "base_uri": "https://localhost:8080/",
     "height": 487
    },
    "id": "b8fnLSryLSAs",
    "outputId": "2873291b-5cdf-43a4-ff8f-bf4766985aa2",
    "ExecuteTime": {
     "start_time": "2024-03-28T22:17:39.239837Z"
    }
   },
   "execution_count": null,
   "outputs": []
  },
  {
   "cell_type": "markdown",
   "source": [
    "SOM Topology with neuron number"
   ],
   "metadata": {
    "id": "7mY_Tl8CMMwg"
   }
  },
  {
   "cell_type": "code",
   "source": [
    "fig, ax, pathces, text = som.plt_top_num()\n",
    "plt.show()"
   ],
   "metadata": {
    "colab": {
     "base_uri": "https://localhost:8080/",
     "height": 487
    },
    "id": "R6H1qJGALmES",
    "outputId": "ee9653b6-6774-482b-e65b-f0630af1dc7d",
    "ExecuteTime": {
     "start_time": "2024-03-28T22:17:39.242376Z"
    }
   },
   "execution_count": null,
   "outputs": []
  },
  {
   "cell_type": "markdown",
   "source": [
    "Hit Histogram"
   ],
   "metadata": {
    "id": "FGAD2Z_2MfUy"
   }
  },
  {
   "cell_type": "code",
   "source": [
    "fig, ax, patches, text = som.hit_hist(X, True)\n",
    "plt.show()"
   ],
   "metadata": {
    "colab": {
     "base_uri": "https://localhost:8080/",
     "height": 807
    },
    "id": "2Tvc7aIfMX2O",
    "outputId": "5088ea6b-4f29-43fc-fc23-a7ae80c59e73",
    "ExecuteTime": {
     "start_time": "2024-03-28T22:17:39.244100Z"
    }
   },
   "execution_count": null,
   "outputs": []
  },
  {
   "cell_type": "markdown",
   "source": [
    "Neighborhood Connection Map"
   ],
   "metadata": {
    "id": "wzya7_skMseU"
   }
  },
  {
   "cell_type": "code",
   "source": [
    "fig, ax, patches = som.plt_nc()\n",
    "plt.show()"
   ],
   "metadata": {
    "colab": {
     "base_uri": "https://localhost:8080/",
     "height": 653
    },
    "id": "sShU3Q-oMqt1",
    "outputId": "9e17ab2a-7a1c-4bcc-f0f7-4b6ad6f00ea7",
    "ExecuteTime": {
     "end_time": "2024-03-28T22:17:39.246824Z",
     "start_time": "2024-03-28T22:17:39.245260Z"
    }
   },
   "execution_count": null,
   "outputs": []
  },
  {
   "cell_type": "markdown",
   "source": [
    "Distance map"
   ],
   "metadata": {
    "id": "7u-s-SqwNIjo"
   }
  },
  {
   "cell_type": "code",
   "source": [
    "fig, ax, patches = som.neuron_dist_plot()\n",
    "plt.show()"
   ],
   "metadata": {
    "colab": {
     "base_uri": "https://localhost:8080/",
     "height": 807
    },
    "id": "NQAOhM1iM-O-",
    "outputId": "ea6ab311-0bc3-4006-8c22-4444a3df1c88",
    "ExecuteTime": {
     "start_time": "2024-03-28T22:17:39.246430Z"
    }
   },
   "execution_count": null,
   "outputs": []
  },
  {
   "cell_type": "markdown",
   "source": [
    "Weight Position Plot"
   ],
   "metadata": {
    "id": "v1l24f1ZNPKy"
   }
  },
  {
   "cell_type": "code",
   "source": [
    "# Weight positions\n",
    "som.component_positions(X_scaled)\n",
    "\n"
   ],
   "metadata": {
    "colab": {
     "base_uri": "https://localhost:8080/",
     "height": 718
    },
    "id": "yuUd_SA-NOb9",
    "outputId": "7a4f0369-6a89-4c1a-b1ec-8a723092e19b",
    "ExecuteTime": {
     "end_time": "2024-03-28T22:17:39.247671Z",
     "start_time": "2024-03-28T22:17:39.247380Z"
    }
   },
   "execution_count": null,
   "outputs": []
  },
  {
   "cell_type": "markdown",
   "source": [
    "Weight Planes"
   ],
   "metadata": {
    "collapsed": false
   }
  },
  {
   "cell_type": "code",
   "execution_count": null,
   "outputs": [],
   "source": [
    "# Weight Planes\n",
    "som.component_planes(X)"
   ],
   "metadata": {
    "collapsed": false,
    "ExecuteTime": {
     "start_time": "2024-03-28T22:17:39.248846Z"
    }
   }
  },
  {
   "cell_type": "markdown",
   "source": [
    "Weight as line plot"
   ],
   "metadata": {
    "id": "F80Uq8qdAagN"
   }
  },
  {
   "cell_type": "code",
   "source": [
    "fig, ax, h_axes = som.multiplot('wgts')\n",
    "plt.show()"
   ],
   "metadata": {
    "colab": {
     "base_uri": "https://localhost:8080/",
     "height": 821
    },
    "id": "5gb4H6rKAfWe",
    "outputId": "00ba0d9b-4ed6-4366-940c-1b4f64e6c75c",
    "ExecuteTime": {
     "start_time": "2024-03-28T22:17:39.445735Z"
    }
   },
   "execution_count": null,
   "outputs": []
  }
 ]
}
