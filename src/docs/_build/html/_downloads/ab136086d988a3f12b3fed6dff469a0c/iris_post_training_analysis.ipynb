{
  "cells": [
    {
      "cell_type": "markdown",
      "metadata": {},
      "source": [
        "\nThis script demonstrates post training analysis on the Iris dataset using matplotlib.\n"
      ]
    },
    {
      "cell_type": "code",
      "execution_count": null,
      "metadata": {
        "collapsed": false
      },
      "outputs": [],
      "source": [
        "from NNSOM.plots import SOMPlots\nfrom NNSOM.utils import *\n\nimport numpy as np\nfrom numpy.random import default_rng\nimport matplotlib.pyplot as plt\n\nfrom sklearn.datasets import load_iris\nfrom sklearn.linear_model import LogisticRegression\n\nimport os\n\n# Random State\nSEED = 1234567\nrng = default_rng(SEED)\n\n# Data Preprocessing\niris = load_iris()\nX = iris.data\ny = iris.target\nX = X[rng.permutation(len(X))]\ny = y[rng.permutation(len(X))]\n\n# Define the directory path for saving the model outside the repository\nmodel_dir = os.path.abspath(os.path.join(os.getcwd(), \"..\", \"..\", \"..\", \"..\", \"Model\"))\ntrained_file_name = \"SOM_Model_iris_Epoch_500_Seed_1234567_Size_4.pkl\"\n\n# SOM Parameters\nSOM_Row_Num = 4  # The number of row used for the SOM grid.\nDimensions = (SOM_Row_Num, SOM_Row_Num)  # The dimensions of the SOM grid.\n\nsom = SOMPlots(Dimensions)\nsom = som.load_pickle(trained_file_name, model_dir + os.sep)\n\n# Data post processing\nclust, dist, mdist, clustSizes = som.cluster_data(X)\n\n# Train Logistic Regression on Iris\nlogit = LogisticRegression(random_state=SEED)\nlogit.fit(X, y)\nresults = logit.predict(X)\n\nperc_misclassified = get_perc_misclassified(y, results, clust)\n\n# For Pie chart and Stem Plot\nsent_tp, sent_tn, sent_fp, sent_fn = get_conf_indices(y, results, 0)  # Confusion matrix for sentosa\nsentosa_conf = cal_class_cluster_intersect(clust, sent_tp, sent_tn, sent_fp, sent_fn)\nvers_tp, vers_tn, vers_fp, vers_fn = get_conf_indices(y, results, 1)  # Confusion matrix for versicolor\nversicolor_conf = cal_class_cluster_intersect(clust, vers_tp, vers_tn, vers_fp, vers_fn)\nvirg_tp, virg_tn, virg_fp, virg_fn = get_conf_indices(y, results, 2)  # Confusion matrix for virginica\nvirginica_conf = cal_class_cluster_intersect(clust, virg_tp, virg_tn, virg_fp, virg_fn)\nconf_align = [0, 1, 2, 3]\n\n# Complex Hit Histogram\n# Get the list with dominat class in each cluster\ndominant_classes = majority_class_cluster(y, clust)\n\n# Get the majority error type (0: type 1 error, 1: type 2 error) corresponding dominat class\nsent_error = get_color_labels(clust, sent_tn, sent_fp)  # Get the majority error type in sentosa\nvers_error = get_color_labels(clust, vers_tn, vers_fp)  # Get the majority error type in versicolor\nvirg_error = get_color_labels(clust, virg_tn, virg_fp)  # Get the majority error type in virginica\niris_error_types = [sent_error, vers_error, virg_error]\nerror_types = get_dominant_class_error_types(dominant_classes, iris_error_types)\n\n# Get the edge width based on the perc of misclassified\nind_misclassified = get_ind_misclassified(y, results)\nedge_width = get_edge_widths(ind_misclassified, clust)\n\n# Make an additional 2-D array\ncomp_2d_array = np.transpose(np.array([dominant_classes, error_types, edge_width]))\n\n# Simple Grid\nperc_sentosa = get_perc_cluster(y, 0, clust)\nsimple_2d_array = np.transpose(np.array([perc_sentosa, perc_sentosa]))\n\ndata_dict = {\n    \"data\": X,\n    \"target\": y,\n    \"clust\": clust,\n    \"add_1d_array\": perc_misclassified,\n    \"add_2d_array\": []\n}\n\n# Visualization\n# Gray Hist (Brighter: more, Darker: less)\nfig1, ax1, patches1, text1 = som.plot('gray_hist', data_dict, use_add_array=True)\nplt.suptitle(\"Gray Hist with the percentage of misclassified items\", fontsize=16)\nplt.show()\n\n# Color Hist\nfig2, ax2, patches2, text2, cbar2 = som.plot('color_hist', data_dict, use_add_array=True)\nplt.suptitle(\"Color Hist with the percentage of misclassified items\", fontsize=16)\nplt.show()\n\n# Complex Hit hist\n# sentosa: Blue, versicolor: Green, virginica: Red (inner color)\n# type 1 error (tn): Pink, type 2 error (fn): blue (edge color) for corresponding dominat classes\n# Edge width: percentage of misclassified items (edge width)\ndata_dict['add_2d_array'] = comp_2d_array  # Update an additional 2-D array\nfig3, ax3, patches3, text3 = som.plot('complex_hist', data_dict, use_add_array=True)\nplt.suptitle(\"Complex Hit Histogram - Error Analysis\", fontsize=16)\nplt.show()\n\n# Simple Grid\n# color: perc misclassified\n# sizes: perc sentosa\ndata_dict['add_2d_array'] = simple_2d_array  # Update an additional 2-D array\nfig4, ax4, patches4, cbar4 = som.plot('simple_grid', data_dict, use_add_array=True)\nplt.suptitle(\"Simple Grid\", fontsize=16)\nplt.show()\n\n# Pie chart\n# tp: Blue, tn: Purple, fp: Orange, and fn: Yellow\ndata_dict['add_2d_array'] = sentosa_conf  # Update an additional 2-D array\nfig5, ax5, h_axes5 = som.plot('pie', data_dict, use_add_array=True)\nplt.suptitle(\"Pie Chart with tp, tn, fp, and fn of sentosa\", fontsize=16)\nplt.show()\n\n# tp: Blue, tn: Purple, fp: Orange, and fn: Yellow\ndata_dict['add_2d_array'] = versicolor_conf  # Update an additional 2-D array\nfig6, ax6, h_axes6 = som.plot('pie', data_dict, use_add_array=True)\nplt.suptitle(\"Pie Chart with tp, tn, fp, and fn of versicolor\", fontsize=16)\nplt.show()\n\n# tp: Blue, tn: Purple, fp: Orange, and fn: Yellow\ndata_dict['add_2d_array'] = virginica_conf  # Update an additional 2-D array\nfig7, ax7, h_axes7 = som.plot('pie', data_dict, use_add_array=True)\nplt.suptitle(\"Pie Chart with tp, tn, fp, and fn of virginica\", fontsize=16)\nplt.show()\n\n# Stem Plot\ndata_dict['add_2d_array'] = sentosa_conf  # Update an additional 2-D array\nfig8, ax8, h_axes8 = som.plot(\"stem\", data_dict, use_add_array=True)\nplt.suptitle(\"Stem Plot with tp, tn, fp, fn of Sentosa\", fontsize=16)\nplt.show()\n\ndata_dict['add_2d_array'] = versicolor_conf # Update an additional 2-D array\nfig9, ax9, h_axes9 = som.plot(\"stem\", data_dict, use_add_array=True)\nplt.suptitle(\"Stem Plot with tp, tn, fp, fn of Versicolor\", fontsize=16)\nplt.show()\n\ndata_dict['add_2d_array'] = virginica_conf  # Update an additional 2-D array\nfig10, ax10, h_axes10 = som.plot(\"stem\", data_dict, use_add_array=True)\nplt.suptitle(\"Stem Plot with tp, tn, fp, fn of Virginica\", fontsize=16)\nplt.show()"
      ]
    }
  ],
  "metadata": {
    "kernelspec": {
      "display_name": "Python 3",
      "language": "python",
      "name": "python3"
    },
    "language_info": {
      "codemirror_mode": {
        "name": "ipython",
        "version": 3
      },
      "file_extension": ".py",
      "mimetype": "text/x-python",
      "name": "python",
      "nbconvert_exporter": "python",
      "pygments_lexer": "ipython3",
      "version": "3.9.6"
    }
  },
  "nbformat": 4,
  "nbformat_minor": 0
}