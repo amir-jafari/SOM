{
  "nbformat": 4,
  "nbformat_minor": 0,
  "metadata": {
    "colab": {
      "provenance": [],
      "toc_visible": true,
      "include_colab_link": true
    },
    "kernelspec": {
      "name": "python3",
      "display_name": "Python 3"
    },
    "language_info": {
      "name": "python"
    }
  },
  "cells": [
    {
      "cell_type": "markdown",
      "metadata": {
        "id": "view-in-github",
        "colab_type": "text"
      },
      "source": [
        "<a href=\"https://colab.research.google.com/github/amir-jafari/SOM/blob/main/PyPI/PyPI_Instruction.ipynb\" target=\"_parent\"><img src=\"https://colab.research.google.com/assets/colab-badge.svg\" alt=\"Open In Colab\"/></a>"
      ]
    },
    {
      "cell_type": "markdown",
      "source": [
        "<b>\n",
        "<p>\n",
        "<center>\n",
        "<font size=\"5\">\n",
        "Python Packaging Project Tutorial with PyPI (ver. 2024.02)\n",
        "</font>\n",
        "</center>\n",
        "</p>\n",
        "\n",
        "<p>\n",
        "<center>\n",
        "<font size=\"3\">\n",
        "Data Science, Columbian College of Arts & Sciences, George Washington University\n",
        "</font>\n",
        "</center>\n",
        "</p>\n",
        "\n",
        "<p>\n",
        "<center>\n",
        "<font size=\"3\">\n",
        "Amir Jafari, Lakshmi, Ei\n",
        "</font>\n",
        "</center>\n",
        "</p>\n",
        "</b>"
      ],
      "metadata": {
        "id": "L7SkSq_rTwTN"
      }
    },
    {
      "cell_type": "markdown",
      "source": [
        "# Table of Contents\n",
        "\n"
      ],
      "metadata": {
        "id": "Tu6BhZNQQ9oE"
      }
    },
    {
      "cell_type": "markdown",
      "source": [
        ">[Table of Contents](#scrollTo=Tu6BhZNQQ9oE)\n",
        "\n",
        ">[Overview](#scrollTo=dVeARCEtUMkE)\n",
        "\n",
        ">[What is the PyPI?](#scrollTo=I0F5eH8TVibg)\n",
        "\n",
        ">[Packaging Flow](#scrollTo=ziTmGqalWa9p)\n",
        "\n",
        ">[Six Steps to Building and Publishing Python Projects](#scrollTo=HxPmgj85rLlC)\n",
        "\n",
        ">>[4.1 Set up the account and API Token in PyPI](#scrollTo=j1fwE-pnZxjo)\n",
        "\n",
        ">>[4.2 Prepare the Source Tree](#scrollTo=q4bTAGHfX09k)\n",
        "\n",
        ">>[4.3 Create Configuration File](#scrollTo=ktS5MEZ2tsXp)\n",
        "\n",
        ">>[4.4 Generate Build Artifacts](#scrollTo=RRNTyRzrtx77)\n",
        "\n",
        ">>[4.5 Upload the Build Artifacts](#scrollTo=JSIF4k5vt16r)\n",
        "\n",
        ">>[4.6 Install and test the package](#scrollTo=2BtuWOBXuCJo)\n",
        "\n",
        ">[Next steps](#scrollTo=DdTNla4hLGM_)\n",
        "\n",
        ">[References](#scrollTo=V568TUcSYtpR)\n",
        "\n",
        ">[Other Resources & Videos](#scrollTo=lABARXllGF7J)\n",
        "\n"
      ],
      "metadata": {
        "colab_type": "toc",
        "id": "FsxL_jmVNuz-"
      }
    },
    {
      "cell_type": "markdown",
      "source": [
        "# 1. Overview\n",
        "\n",
        "This guide provides step-by-step instructions on how to package a basic Python project. It covers how to organize and prepare your project with the required files for packaging, how to compile the package, and how to publish it to the Python Package Index (PyPI).\n",
        "\n",
        "***Important to Note:***\n",
        "The process for publishing Python packages can evolve over time with updates to packaging tools, standards, and best practices within the Python community. It's crucial to refer to the most current documentation and resources for guidance on packaging and distributing Python software. Key sources include the official Python Packaging Authority (PyPA) guidelines, the Python Packaging User Guide, and documentation for specific tools like setuptools, pip, and twine. Staying informed about the latest recommendations ensures that your package is compatible, secure, and accessible to the Python community. Always check these resources for the most up-to-date information before publishing your Python packages."
      ],
      "metadata": {
        "id": "dVeARCEtUMkE"
      }
    },
    {
      "cell_type": "markdown",
      "source": [
        "# 2. What is the PyPI?\n",
        "The Python Package Index (PyPI) is a software repository for the Python programming language. PyPI helps you find and install software developed and shared by the Python community. It is a central hub where developers can upload their Python projects in packages, making them available for others to download and use. PyPI supports the pip tool, which is a package installer for Python, allowing users to install, update, and manage packages from the repository easily. Through PyPI, developers can distribute their software globally, and users can access various tools and libraries to enhance their development projects."
      ],
      "metadata": {
        "id": "I0F5eH8TVibg"
      }
    },
    {
      "cell_type": "markdown",
      "source": [
        "# 3. Packaging Flow\n",
        "\n",
        "1. Setup the PyPI account\n",
        "\n",
        "2. Prepare the Source Tree: Start with a source tree of your package, usually obtained from a version control system.\n",
        "\n",
        "3. Create Configuration File: Prepare a pyproject.toml file within the source tree. This file contains the package's metadata (e.g., name, version) and details on how to build the package.\n",
        "\n",
        "4. Generate Build Artifacts: Use a build tool to create artifacts from the configuration file. This typically includes a source distribution (sdist) and one or more wheel distributions (wheels). For pure Python packages, a generic wheel is often sufficient.\n",
        "\n",
        "5. Upload to Package Distribution Service: Upload the created build artifacts to a package distribution service, commonly PyPI, making the package available for others to download and use.\n",
        "\n",
        "6. Download Package: End users download the package's build artifact from the distribution service.\n",
        "\n",
        "7. Install Package: The downloaded package is installed into the user's Python environment, typically into the site-packages directory. This step is usually handled by pip and may include additional build or compile steps as specified by the package's metadata."
      ],
      "metadata": {
        "id": "ziTmGqalWa9p"
      }
    },
    {
      "cell_type": "markdown",
      "source": [
        "# 4. Six Steps to Building and Publishing Python Projects"
      ],
      "metadata": {
        "id": "HxPmgj85rLlC"
      }
    },
    {
      "cell_type": "markdown",
      "source": [
        "## 4.1 Set up the account and API Token in PyPI\n",
        "\n",
        "Before working on your project, you need to set up the account in PyPi.\n",
        "\n",
        "*Note:*\n",
        "In this tutorial, we will use `TestPyPI`. `TestPyPI` is a separate instance of the Python Package Index (PyPI) that allows you to try out the distribution tools and process without worrying about affecting the real index."
      ],
      "metadata": {
        "id": "j1fwE-pnZxjo"
      }
    },
    {
      "cell_type": "markdown",
      "source": [
        "Go to https://test.pypi.org/"
      ],
      "metadata": {
        "id": "JYwwk0P2e1iO"
      }
    },
    {
      "cell_type": "markdown",
      "source": [
        "<img src=\"https://drive.google.com/uc?id=1hF2-EYL2VbrecWDaNvkGdNdAHQSMiWd0\">\n",
        "\n"
      ],
      "metadata": {
        "id": "tlIxMC4-gMse"
      }
    },
    {
      "cell_type": "markdown",
      "source": [
        "Create an account on PyPI"
      ],
      "metadata": {
        "id": "5c8nAkAmn2aK"
      }
    },
    {
      "cell_type": "markdown",
      "source": [
        "<img src=\"https://drive.google.com/uc?export=download&id=1u5MPxxFM80_TxgvjT2QTr_DMJKrq1g1S\">\n"
      ],
      "metadata": {
        "id": "I0OpjMyCnaXe"
      }
    },
    {
      "cell_type": "markdown",
      "source": [
        "Go to Account Settings."
      ],
      "metadata": {
        "id": "AIKd7yb2n9C7"
      }
    },
    {
      "cell_type": "markdown",
      "source": [
        "<img src=\"https://drive.google.com/uc?export=download&id=1Hrz9P0IH5bMwNXVfntSL2diZn2Mq7EIn\">"
      ],
      "metadata": {
        "id": "bi2QYUdun81V"
      }
    },
    {
      "cell_type": "markdown",
      "source": [
        "Generate revocery codes in the Two factor authentication section."
      ],
      "metadata": {
        "id": "sZZfvdebn8Rl"
      }
    },
    {
      "cell_type": "markdown",
      "source": [
        "<img src=\"https://drive.google.com/uc?export=download&id=1m3QaJi3zxMDND_a7XmM4vvmTREpcSL25\">\n"
      ],
      "metadata": {
        "id": "D-HMltGioNNU"
      }
    },
    {
      "cell_type": "markdown",
      "source": [
        "Save your Account recovery codes in your local machine."
      ],
      "metadata": {
        "id": "c2_j6jdboemP"
      }
    },
    {
      "cell_type": "markdown",
      "source": [
        "<img src=\"https://drive.google.com/uc?export=download&id=1r-mHA3Zebwvu_RhXGdy7mmgoGx2kwYW3\">"
      ],
      "metadata": {
        "id": "xQWxtzguofBj"
      }
    },
    {
      "cell_type": "markdown",
      "source": [
        "Add 2FA with authentication application at 2FA section in the account setting."
      ],
      "metadata": {
        "id": "9hXnOSGOouhH"
      }
    },
    {
      "cell_type": "markdown",
      "source": [
        "<img src=\"https://drive.google.com/uc?export=download&id=1tGxQhMpOesm3a_9iztmr9Wdi52y2oz2U\">\n"
      ],
      "metadata": {
        "id": "TtJSdNOxou8P"
      }
    },
    {
      "cell_type": "markdown",
      "source": [
        "Read QR code with your authenticaion app, then enter an authentication code to verify application."
      ],
      "metadata": {
        "id": "tTmpyVlxpBnj"
      }
    },
    {
      "cell_type": "markdown",
      "source": [
        "<img src=\"https://drive.google.com/uc?export=download&id=1q8CzfLyBF7ak2U6KUhKkXlKD1QlCSZTL\">"
      ],
      "metadata": {
        "id": "tl7n99iDpCPV"
      }
    },
    {
      "cell_type": "markdown",
      "source": [
        "Next, add API token in your account setting."
      ],
      "metadata": {
        "id": "73Fw0wt9pYbr"
      }
    },
    {
      "cell_type": "markdown",
      "source": [
        "<img src=\"https://drive.google.com/uc?export=download&id=1uAO-UthbaxoQapcdAMx-lVa5jku6CE7W\">"
      ],
      "metadata": {
        "id": "KrdQVwG2pY8-"
      }
    },
    {
      "cell_type": "markdown",
      "source": [
        "Create an API token."
      ],
      "metadata": {
        "id": "z3iqhBhFpkJ2"
      }
    },
    {
      "cell_type": "markdown",
      "source": [
        "<img src=\"https://drive.google.com/uc?export=download&id=1Tf6cRVMN9sOcL9JnZwnOmsXMfyeZNEFu\">"
      ],
      "metadata": {
        "id": "jja2nhTZpkr5"
      }
    },
    {
      "cell_type": "markdown",
      "source": [
        "**Store the API Token in your local machine safely and securely.**"
      ],
      "metadata": {
        "id": "7NsG82ZApx01"
      }
    },
    {
      "cell_type": "markdown",
      "source": [
        "<img src=\"https://drive.google.com/uc?export=download&id=1Oi7FgCDpO6z2LhNfPcHPtSvmbBZnPpNz\">"
      ],
      "metadata": {
        "id": "Nolzi1SopyW9"
      }
    },
    {
      "cell_type": "markdown",
      "source": [
        "We are going to use the above API token in the later section."
      ],
      "metadata": {
        "id": "JU4dtQnQqR4d"
      }
    },
    {
      "cell_type": "markdown",
      "source": [
        "## 4.2 Prepare the Source Tree\n"
      ],
      "metadata": {
        "id": "q4bTAGHfX09k"
      }
    },
    {
      "cell_type": "markdown",
      "source": [
        "This guide employs a straightforward project referred to as example_package_YOUR_USERNAME_HERE. If your username happens to be 'me', the package would be named example_package_me, guaranteeing that your package name is distinctive and avoids clashes with packages uploaded by others using this guide. It's advisable to adhere to this guide precisely with this project before attempting to package your own project."
      ],
      "metadata": {
        "id": "ot9xBwL2g_St"
      }
    },
    {
      "cell_type": "markdown",
      "source": [
        "Create the following package structure locally:"
      ],
      "metadata": {
        "id": "toE-dnoUj1Ri"
      }
    },
    {
      "cell_type": "markdown",
      "source": [
        "\n",
        "\n",
        "```\n",
        "packaging_tutorial/\n",
        "└── src/\n",
        "    └── example_package_YOUR_USERNAME_HERE/\n",
        "        ├── __init__.py\n",
        "        └── example.py\n",
        "```\n",
        "\n"
      ],
      "metadata": {
        "id": "xyEfW9Gfmz2K"
      }
    },
    {
      "cell_type": "markdown",
      "source": [
        "The directory containing the Python files should match the project name. This simplifies the configuration and is more obvious to users who install the package."
      ],
      "metadata": {
        "id": "9ICq-P06kHKQ"
      }
    },
    {
      "cell_type": "markdown",
      "source": [
        "*Note:* `__init__.py` is recommended to import the directory as a regular package, even if as is our case for this tutorial that file is empty."
      ],
      "metadata": {
        "id": "Kp6Yg64nkzOv"
      }
    },
    {
      "cell_type": "markdown",
      "source": [
        "Open `example.py` and enter the following content:\n",
        "\n"
      ],
      "metadata": {
        "id": "55M8rOINmneq"
      }
    },
    {
      "cell_type": "markdown",
      "source": [
        "```\n",
        "def add_two(number):\n",
        "  return number + 2\n",
        "```"
      ],
      "metadata": {
        "id": "Y4fOD9AVnsf2"
      }
    },
    {
      "cell_type": "markdown",
      "source": [
        "You will now add files that are used to prepare the project for distribution. When you’re done, the project structure will look like this:"
      ],
      "metadata": {
        "id": "ppz4l7LZpVyH"
      }
    },
    {
      "cell_type": "markdown",
      "source": [
        "```\n",
        "packaging_tutorial/\n",
        "├── LICENSE\n",
        "├── pyproject.toml\n",
        "├── README.md\n",
        "├── src/\n",
        "│   └── example_package_YOUR_USERNAME_HERE/\n",
        "│       ├── __init__.py\n",
        "│       └── example.py\n",
        "└── tests/\n",
        "```"
      ],
      "metadata": {
        "id": "Gf1QNIx7pdoC"
      }
    },
    {
      "cell_type": "markdown",
      "source": [
        "An Example of Scree Image"
      ],
      "metadata": {
        "id": "9rd9qL3QOfGx"
      }
    },
    {
      "cell_type": "markdown",
      "source": [
        "<img src=\"https://drive.google.com/uc?export=download&id=1TPFywe7fsWrvOM3UeD9nOxjgZEoHXGqW\">"
      ],
      "metadata": {
        "id": "WOyr9Ibkp9aH"
      }
    },
    {
      "cell_type": "markdown",
      "source": [
        "##  4.3 Create Configuration File\n",
        "\n",
        "The setup file required varies based on the tool chosen to generate the build products. It's commonly accepted to employ a `pyproject.toml` file, which is in the TOML format.\n",
        "\n",
        "The pyproject.toml file must contain a `[build-system]` section at the very least, which identifies the build tool you're using. Several build tools exist, such as [flit](https://packaging.python.org/en/latest/key_projects/#flit), [hatch](https://packaging.python.org/en/latest/key_projects/#hatch), [pdm](https://packaging.python.org/en/latest/key_projects/#pdm), [poetry](https://packaging.python.org/en/latest/key_projects/#poetry), [Setuptools](https://packaging.python.org/en/latest/key_projects/#setuptools), [trampolim](https://pypi.org/project/trampolim/), and [whey](https://pypi.org/project/whey/), among others. The specific content to include in the `[build-system]` section can be found in the documentation for each tool."
      ],
      "metadata": {
        "id": "ktS5MEZ2tsXp"
      }
    },
    {
      "cell_type": "markdown",
      "source": [
        "For this tutorial, here is a table for using [hatch](https://packaging.python.org/en/latest/key_projects/#hatch):"
      ],
      "metadata": {
        "id": "H8sRQGE0ujf8"
      }
    },
    {
      "cell_type": "markdown",
      "source": [
        "\n",
        "\n",
        "```\n",
        "[build-system]\n",
        "requires = [\"hatchling\"]\n",
        "build-backend = \"hatchling.build\"\n",
        "```\n",
        "\n"
      ],
      "metadata": {
        "id": "Kp_Rv3SAxa3d"
      }
    },
    {
      "cell_type": "markdown",
      "source": [
        "<img src=\"https://drive.google.com/uc?export=download&id=1bBYTR-kuu28y796vWe3U-SFMxLHQ0iqw\">"
      ],
      "metadata": {
        "id": "VXBIMaqKtI7a"
      }
    },
    {
      "cell_type": "markdown",
      "source": [
        "To cofigure metadata, open `pyproject.toml` and enter the following content:\n",
        "\n",
        "Change the 'name' to your package name"
      ],
      "metadata": {
        "id": "rhXuLFUSvXtz"
      }
    },
    {
      "cell_type": "markdown",
      "source": [
        "```\n",
        "[project]\n",
        "name = \"example_package_YOUR_USERNAME_HERE\"\n",
        "version = \"0.0.1\"\n",
        "authors = [\n",
        "  { name=\"Example Author\", email=\"author@example.com\" },\n",
        "]\n",
        "description = \"A small example package\"\n",
        "readme = \"README.md\"\n",
        "requires-python = \">=3.8\"\n",
        "classifiers = [\n",
        "    \"Programming Language :: Python :: 3\",\n",
        "    \"License :: OSI Approved :: MIT License\",\n",
        "    \"Operating System :: OS Independent\",\n",
        "]\n",
        "\n",
        "[project.urls]\n",
        "Homepage = \"https://github.com/pypa/sampleproject\"\n",
        "Issues = \"https://github.com/pypa/sampleproject/issues\"\n",
        "```\n",
        "\n"
      ],
      "metadata": {
        "id": "SfE8IxX8wn8M"
      }
    },
    {
      "cell_type": "markdown",
      "source": [
        "<img src=\"https://drive.google.com/uc?export=download&id=1cY50wzcSLFI9oZ-kySHGKmBNlh-i4Pwk\">"
      ],
      "metadata": {
        "id": "Usa5W7YvwMIC"
      }
    },
    {
      "cell_type": "markdown",
      "source": [
        "See the [pyproject.toml guide](https://packaging.python.org/en/latest/guides/writing-pyproject-toml/#writing-pyproject-toml) for details on these and other fields that can be defined in the `[project]` table."
      ],
      "metadata": {
        "id": "f5EiNnfXxBKs"
      }
    },
    {
      "cell_type": "markdown",
      "source": [
        "Open `README.md` and enter the following content. You can customize this if you'd like."
      ],
      "metadata": {
        "id": "cGuGkRA6yLkC"
      }
    },
    {
      "cell_type": "markdown",
      "source": [
        "\n",
        "\n",
        "```\n",
        "# Example Package\n",
        "\n",
        "This is a simple example package that performs addition. You can use\n",
        "[GitHub-flavored Markdown](https://guides.github.com/features/mastering-markdown/)\n",
        "to write your content.\n",
        "```\n",
        "\n"
      ],
      "metadata": {
        "id": "Qc37YU9vyYnJ"
      }
    },
    {
      "cell_type": "markdown",
      "source": [
        "It's also important for every package uploaded to the Python Package Index to include a **license**.\n",
        "\n",
        "For help picking a license, see https://choosealicense.com/\n",
        "\n",
        "Once you have chosen a license, oprn `LICENSE` and enter the license text. For example, if you had chosen the MIT license:"
      ],
      "metadata": {
        "id": "jaGDBtrGyevo"
      }
    },
    {
      "cell_type": "markdown",
      "source": [
        "\n",
        "\n",
        "```\n",
        "Copyright (c) 2018 The Python Packaging Authority\n",
        "\n",
        "Permission is hereby granted, free of charge, to any person obtaining a copy\n",
        "of this software and associated documentation files (the \"Software\"), to deal\n",
        "in the Software without restriction, including without limitation the rights\n",
        "to use, copy, modify, merge, publish, distribute, sublicense, and/or sell\n",
        "copies of the Software, and to permit persons to whom the Software is\n",
        "furnished to do so, subject to the following conditions:\n",
        "\n",
        "The above copyright notice and this permission notice shall be included in all\n",
        "copies or substantial portions of the Software.\n",
        "\n",
        "THE SOFTWARE IS PROVIDED \"AS IS\", WITHOUT WARRANTY OF ANY KIND, EXPRESS OR\n",
        "IMPLIED, INCLUDING BUT NOT LIMITED TO THE WARRANTIES OF MERCHANTABILITY,\n",
        "FITNESS FOR A PARTICULAR PURPOSE AND NONINFRINGEMENT. IN NO EVENT SHALL THE\n",
        "AUTHORS OR COPYRIGHT HOLDERS BE LIABLE FOR ANY CLAIM, DAMAGES OR OTHER\n",
        "LIABILITY, WHETHER IN AN ACTION OF CONTRACT, TORT OR OTHERWISE, ARISING FROM,\n",
        "OUT OF OR IN CONNECTION WITH THE SOFTWARE OR THE USE OR OTHER DEALINGS IN THE\n",
        "SOFTWARE.\n",
        "```\n",
        "\n"
      ],
      "metadata": {
        "id": "ksMQwDZ7zALt"
      }
    },
    {
      "cell_type": "markdown",
      "source": [
        "## 4.4 Generate Build Artifacts\n",
        "\n",
        "The subsequent action involves creating [distribution packages](https://packaging.python.org/en/latest/glossary/#term-Distribution-Package) for the package. These packages are compiled into archives that get uploaded to the Python Package Index, allowing them to be installed via pip.\n",
        "\n"
      ],
      "metadata": {
        "id": "RRNTyRzrtx77"
      }
    },
    {
      "cell_type": "markdown",
      "source": [
        "Make sure you have the latest version of PyPA’s [build](https://packaging.python.org/en/latest/key_projects/#build) installed:\n",
        "\n",
        "**Unix/macOS**     \n",
        "```\n",
        "> python3 -m pip install --upgrade build\n",
        "```\n",
        "\n",
        "**Windows**\n",
        "```\n",
        "> py -m pip install --upgrade build\n",
        "```"
      ],
      "metadata": {
        "id": "g6J43VC4Ab8j"
      }
    },
    {
      "cell_type": "markdown",
      "source": [
        "Now run this command from the same directory where pyproject.toml is located:\n",
        "\n",
        "**Unix/macOS**\n",
        "```\n",
        "> python3 -m build\n",
        "```\n",
        "\n",
        "**Windows**\n",
        "```\n",
        "> python -m build\n",
        "```"
      ],
      "metadata": {
        "id": "WWzHLCoxAweV"
      }
    },
    {
      "cell_type": "markdown",
      "source": [
        "This command should output a lot of text and once completed should generate two files in the dist directory:\n",
        "\n",
        "```\n",
        "dist/\n",
        "├── example_package_YOUR_USERNAME_HERE-0.0.1-py3-none-any.whl\n",
        "└── example_package_YOUR_USERNAME_HERE-0.0.1.tar.gz\n",
        "```"
      ],
      "metadata": {
        "id": "WpdRxSd3A2eb"
      }
    },
    {
      "cell_type": "markdown",
      "source": [
        "## 4.5 Upload the Build Artifacts\n",
        "\n",
        "Finally, it’s time to upload your package to the Python Package Index!"
      ],
      "metadata": {
        "id": "JSIF4k5vt16r"
      }
    },
    {
      "cell_type": "markdown",
      "source": [
        "You can use twine to upload the distribution packages. You’ll need to install [Twine](https://packaging.python.org/en/latest/key_projects/#twine):\n",
        "\n",
        "\n",
        "**Unix/macOS**\n",
        "```\n",
        "> python3 -m pip install --upgrade twine\n",
        "```\n",
        "\n",
        "**Windows**\n",
        "```\n",
        "> py -m pip install --upgrade twine\n",
        "```\n"
      ],
      "metadata": {
        "id": "Nrz7jzfLBNdZ"
      }
    },
    {
      "cell_type": "markdown",
      "source": [
        "Once installed, run Twine to upload all of the archives under dist:\n",
        "\n",
        "**Unix/macOS**\n",
        "```\n",
        "> python3 -m twine upload --repository testpypi dist/*\n",
        "```\n",
        "\n",
        "**Windows**\n",
        "```\n",
        "> py -m twine upload --repository testpypi dist/*\n",
        "```\n",
        "\n",
        "You will be prompted for a username and password.\n",
        "\n",
        "For the username, use `__token__`. For the password, use the token value, including the pypi- prefix that we generated earlier.\n",
        "\n",
        "After the command completes, you should see output similar to this:"
      ],
      "metadata": {
        "id": "3NpLzcUwBfhX"
      }
    },
    {
      "cell_type": "markdown",
      "source": [
        "```\n",
        "Uploading distributions to https://test.pypi.org/legacy/\n",
        "Enter your username: __token__\n",
        "Uploading example_package_YOUR_USERNAME_HERE-0.0.1-py3-none-any.whl\n",
        "100% ━━━━━━━━━━━━━━━━━━━━━━━━━━━━━━━━━━━━━━━━ 8.2/8.2 kB • 00:01 • ?\n",
        "Uploading example_package_YOUR_USERNAME_HERE-0.0.1.tar.gz\n",
        "100% ━━━━━━━━━━━━━━━━━━━━━━━━━━━━━━━━━━━━━━━━ 6.8/6.8 kB • 00:00 • ?\n",
        "```"
      ],
      "metadata": {
        "id": "-hslma8cKLph"
      }
    },
    {
      "cell_type": "markdown",
      "source": [
        "## 4.6 Install and test the package"
      ],
      "metadata": {
        "id": "2BtuWOBXuCJo"
      }
    },
    {
      "cell_type": "markdown",
      "source": [
        "You can use pip to install your package and verify that it works\n",
        "\n",
        "```\n",
        "python3 -m pip install --index-url https://test.pypi.org/simple/ --no-deps example-package-YOUR-USERNAME-HERE\n",
        "```"
      ],
      "metadata": {
        "id": "i32QetTeCwMQ"
      }
    },
    {
      "cell_type": "markdown",
      "source": [
        "Make sure you’re still in your virtual environment, then run Python:\n",
        "\n",
        "\n",
        "**Unix/macOS**\n",
        "```\n",
        "python3\n",
        "```\n",
        "and import the package:\n",
        "\n",
        "```\n",
        ">>> from example_package_YOUR_USERNAME_HERE import example\n",
        ">>> example.add_two(2)\n",
        "4\n",
        "```"
      ],
      "metadata": {
        "id": "xM5_yRCJJtG-"
      }
    },
    {
      "cell_type": "markdown",
      "source": [
        "# **Next steps**"
      ],
      "metadata": {
        "id": "DdTNla4hLGM_"
      }
    },
    {
      "cell_type": "markdown",
      "source": [
        "Keep in mind that this tutorial showed you how to upload your package to Test PyPI, which isn’t a permanent storage. The Test system occasionally deletes packages and accounts. It is best to use TestPyPI for testing and experiments like this tutorial.\n",
        "\n",
        "When you are ready to upload a real package to the Python Package Index you can do much the same as you did in this tutorial, but with these important differences:\n",
        "\n",
        "- Choose a memorable and unique name for your package. You don’t have to append your username as you did in the tutorial, but you can’t use an existing name.\n",
        "\n",
        "- Register an account on https://pypi.org - note that these are two separate servers and the login details from the test server are not shared with the main server.\n",
        "\n",
        "- Use `twine upload dist/*` to upload your package and enter your credentials for the account you registered on the real PyPI. Now that you’re uploading the package in production, you don’t need to specify `--repository`; the package will upload to https://pypi.org/ by default.\n",
        "\n",
        "- Install your package from the real PyPI using `python3 -m pip install [your-package]`."
      ],
      "metadata": {
        "id": "WL3bw25dNfRq"
      }
    },
    {
      "cell_type": "markdown",
      "source": [
        "# References\n",
        "\n",
        "1. [PyPI](https://pypi.org/): Official Website\n",
        "\n",
        "2. [Python Packaging Glossary](https://packaging.python.org/en/latest/glossary/)\n",
        "\n",
        "3. [Python Packaging User Guide](https://packaging.python.org/en/latest/): The official guide by Python Packaging Authority (PyPA)\n",
        "\n",
        "4. [Packaging Work Flow](https://packaging.python.org/en/latest/flow/)\n",
        "\n",
        "5. [Python Packaging User Guide (Tutorial)](https://packaging.python.org/en/latest/tutorials/packaging-projects/)\n",
        "\n",
        "6. [Writing your pyproject.toml](https://packaging.python.org/en/latest/guides/writing-pyproject-toml/)\n",
        "\n",
        "7. [How to create a Python Package with `__init.py__`](https://timothybramlett.com/How_to_create_a_Python_Package_with___init__py.html)"
      ],
      "metadata": {
        "id": "V568TUcSYtpR"
      }
    },
    {
      "cell_type": "markdown",
      "source": [
        "# Other Resources & Videos"
      ],
      "metadata": {
        "id": "lABARXllGF7J"
      }
    },
    {
      "cell_type": "markdown",
      "source": [
        "1. [How to Package Your Python Code](https://python-packaging.readthedocs.io/en/latest/index.html) | by Scott Torborg (article):\n",
        "\n",
        "  This tutorial aims to put forth an opinionated and specific pattern to make trouble-free packages for community use. It doesn’t describe the only way of doing things, merely one specific approach that works well.\n",
        "\n",
        "2. [How to package a Python](https://py-pkgs.org/03-how-to-package-a-python.html) | by Tomas Beuzen (article):\n",
        "\n",
        "  In this chapter we will develop an entire example Python package from beginning-to-end to demonstrate the key steps involved in developing a package.\n",
        "\n",
        "3. [How to Publish a Python Package to PyPI (pip)](https://youtu.be/Kz6IlDCyOUY?si=faRZMCoqD0fB95mR) | by pixegami:\n",
        "\n",
        "  This tutorial covers setting up the project, configuring the setup.py file, building and testing the package, adding CLI functionality, publishing to PyPI, and installing using pip. Watch this video if you want to share your code and make it easily installable for others."
      ],
      "metadata": {
        "id": "uiabOQzOGIMN"
      }
    }
  ]
}